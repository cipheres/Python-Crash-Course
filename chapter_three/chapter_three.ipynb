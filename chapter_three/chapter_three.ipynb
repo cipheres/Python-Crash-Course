{
 "cells": [
  {
   "cell_type": "markdown",
   "id": "68b4618f-ac86-413d-aeda-d857e5781b5a",
   "metadata": {},
   "source": [
    "# Introducing List\n",
    "\n",
    "List is collection of items in particular order"
   ]
  },
  {
   "cell_type": "code",
   "execution_count": 1,
   "id": "39592726-c81e-4326-982f-fb58720a901c",
   "metadata": {},
   "outputs": [
    {
     "name": "stdout",
     "output_type": "stream",
     "text": [
      "['trek', 'cannandale', 'redline', 'specialized']\n"
     ]
    }
   ],
   "source": [
    "bicycles = ['trek', 'cannandale', 'redline', 'specialized']\n",
    "print(bicycles)"
   ]
  },
  {
   "cell_type": "markdown",
   "id": "5b814690-2f3d-4a16-97e4-193cb2ecb918",
   "metadata": {},
   "source": [
    "#### Accessing Elements in a List\n",
    "Lists are ordered collection, items in list can be accessed using their index number"
   ]
  },
  {
   "cell_type": "code",
   "execution_count": 2,
   "id": "d08f263a-25c4-47ea-8b3a-cd10b91364cf",
   "metadata": {},
   "outputs": [
    {
     "name": "stdout",
     "output_type": "stream",
     "text": [
      "trek\n"
     ]
    }
   ],
   "source": [
    "print(bicycles[0])"
   ]
  },
  {
   "cell_type": "code",
   "execution_count": 3,
   "id": "17a8dfab-303d-4ea4-8e6c-d1a4a39435c5",
   "metadata": {},
   "outputs": [
    {
     "name": "stdout",
     "output_type": "stream",
     "text": [
      "Trek\n"
     ]
    }
   ],
   "source": [
    "print(bicycles[0].title())"
   ]
  },
  {
   "cell_type": "markdown",
   "id": "37af5759-a262-49fd-8ac5-cfd87bdfd0a9",
   "metadata": {},
   "source": [
    "#### Index Positions Start at 0, Not 1\n",
    "Like most programming language, first item in list has index 0 instead of 1. If you want to access item at n number, use n-1 index"
   ]
  },
  {
   "cell_type": "code",
   "execution_count": 4,
   "id": "1212f665-e017-4038-a3d5-50d192afda0a",
   "metadata": {},
   "outputs": [
    {
     "name": "stdout",
     "output_type": "stream",
     "text": [
      "cannandale\n"
     ]
    }
   ],
   "source": [
    "# Item at 2 number is at index 1\n",
    "print(bicycles[1])"
   ]
  },
  {
   "cell_type": "markdown",
   "id": "b0f47d0b-20df-4cdb-a301-56e26aaa38b4",
   "metadata": {},
   "source": [
    "> **NOTE:** We can use negative integer to access items in list. Negative integer access item from the end. You can access last item without knowing index or length of list"
   ]
  },
  {
   "cell_type": "code",
   "execution_count": 8,
   "id": "4d1653e4-e49d-40d5-93bb-096a4e3a1a48",
   "metadata": {},
   "outputs": [
    {
     "name": "stdout",
     "output_type": "stream",
     "text": [
      "specialized\n"
     ]
    }
   ],
   "source": [
    "# Access last item of list\n",
    "print(bicycles[-1])"
   ]
  },
  {
   "cell_type": "code",
   "execution_count": 9,
   "id": "80b0485f-4295-47e7-a47c-a207e3214e98",
   "metadata": {},
   "outputs": [
    {
     "name": "stdout",
     "output_type": "stream",
     "text": [
      "redline\n"
     ]
    }
   ],
   "source": [
    "# Access second last item of list\n",
    "print(bicycles[-2])"
   ]
  },
  {
   "cell_type": "markdown",
   "id": "1d37168a-c098-40f3-a5bf-5b9f865c5b0a",
   "metadata": {},
   "source": [
    "#### Using items from a list\n",
    "We can use single item from list like anyother variable"
   ]
  },
  {
   "cell_type": "code",
   "execution_count": 7,
   "id": "a558eaa5-12b5-4699-b645-2f5c21cd95d1",
   "metadata": {},
   "outputs": [
    {
     "name": "stdout",
     "output_type": "stream",
     "text": [
      "My first bicycle was a Trek\n"
     ]
    }
   ],
   "source": [
    "message = f\"My first bicycle was a {bicycles[0].title()}\"\n",
    "print(message)"
   ]
  },
  {
   "cell_type": "markdown",
   "id": "20c22b95-e010-428d-bcd9-497ffbc06534",
   "metadata": {},
   "source": [
    "#### Exercise 3-1: Names\n",
    "Store the names of a few of your friends in a list called names. Print each person’s name by accessing each element in the list, one at a time"
   ]
  },
  {
   "cell_type": "code",
   "execution_count": 11,
   "id": "ed481f39-c1e2-44d8-828e-28e377723e0e",
   "metadata": {},
   "outputs": [
    {
     "name": "stdout",
     "output_type": "stream",
     "text": [
      "John\n",
      "Carmack\n"
     ]
    }
   ],
   "source": [
    "names = [\"john\", \"carmack\"]\n",
    "print(names[0].title())\n",
    "print(names[1].title())"
   ]
  },
  {
   "cell_type": "markdown",
   "id": "ef983f30-9cfd-418e-a00f-2793974f27cf",
   "metadata": {},
   "source": [
    "#### Exercise 3-2: Greetings\n",
    "The text of each message should be the same, but each message should be personalized with the person’s name."
   ]
  },
  {
   "cell_type": "code",
   "execution_count": 13,
   "id": "3c1cd854-d4de-47a3-84a3-6bdd277e7911",
   "metadata": {},
   "outputs": [
    {
     "name": "stdout",
     "output_type": "stream",
     "text": [
      "Hello, John\n",
      "Hello, Carmack\n"
     ]
    }
   ],
   "source": [
    "print(f\"Hello, {names[0].title()}\")\n",
    "print(f\"Hello, {names[1].title()}\")"
   ]
  },
  {
   "cell_type": "markdown",
   "id": "1a0b5175-f73b-4375-99c2-00490290da6f",
   "metadata": {},
   "source": [
    "#### Exercise 3-3: You Own List\n",
    "Think of your favorite mode of transportation, such as a motorcycle or a car, and make a list that stores several examples. Use your list to print a series of statements about these items, such as “I would like to own a Honda motorcycle.”"
   ]
  },
  {
   "cell_type": "code",
   "execution_count": 15,
   "id": "6f886ebc-0ddb-47fe-859c-723d0491c8d0",
   "metadata": {},
   "outputs": [
    {
     "name": "stdout",
     "output_type": "stream",
     "text": [
      "I would like to own a Honda motocycle.\n",
      "I would like to own a Suzuki motocycle.\n",
      "I would like to own a Hayabuza motocycle.\n"
     ]
    }
   ],
   "source": [
    "motorcyles = [\"honda\", \"suzuki\", \"hayabuza\"]\n",
    "print(f\"I would like to own a {motorcyles[0].title()} motocycle.\")\n",
    "print(f\"I would like to own a {motorcyles[1].title()} motocycle.\")\n",
    "print(f\"I would like to own a {motorcyles[2].title()} motocycle.\")"
   ]
  }
 ],
 "metadata": {
  "kernelspec": {
   "display_name": "Python 3 (ipykernel)",
   "language": "python",
   "name": "python3"
  },
  "language_info": {
   "codemirror_mode": {
    "name": "ipython",
    "version": 3
   },
   "file_extension": ".py",
   "mimetype": "text/x-python",
   "name": "python",
   "nbconvert_exporter": "python",
   "pygments_lexer": "ipython3",
   "version": "3.10.12"
  }
 },
 "nbformat": 4,
 "nbformat_minor": 5
}
