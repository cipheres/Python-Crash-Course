{
 "cells": [
  {
   "cell_type": "markdown",
   "id": "68b4618f-ac86-413d-aeda-d857e5781b5a",
   "metadata": {},
   "source": [
    "# Introducing List\n",
    "\n",
    "List is collection of items in particular order"
   ]
  },
  {
   "cell_type": "code",
   "execution_count": 1,
   "id": "39592726-c81e-4326-982f-fb58720a901c",
   "metadata": {},
   "outputs": [
    {
     "name": "stdout",
     "output_type": "stream",
     "text": [
      "['trek', 'cannandale', 'redline', 'specialized']\n"
     ]
    }
   ],
   "source": [
    "bicycles = ['trek', 'cannandale', 'redline', 'specialized']\n",
    "print(bicycles)"
   ]
  },
  {
   "cell_type": "markdown",
   "id": "5b814690-2f3d-4a16-97e4-193cb2ecb918",
   "metadata": {},
   "source": [
    "#### Accessing Elements in a List\n",
    "Lists are ordered collection, items in list can be accessed using their index number"
   ]
  },
  {
   "cell_type": "code",
   "execution_count": 2,
   "id": "d08f263a-25c4-47ea-8b3a-cd10b91364cf",
   "metadata": {},
   "outputs": [
    {
     "name": "stdout",
     "output_type": "stream",
     "text": [
      "trek\n"
     ]
    }
   ],
   "source": [
    "print(bicycles[0])"
   ]
  },
  {
   "cell_type": "code",
   "execution_count": 3,
   "id": "17a8dfab-303d-4ea4-8e6c-d1a4a39435c5",
   "metadata": {},
   "outputs": [
    {
     "name": "stdout",
     "output_type": "stream",
     "text": [
      "Trek\n"
     ]
    }
   ],
   "source": [
    "print(bicycles[0].title())"
   ]
  },
  {
   "cell_type": "markdown",
   "id": "37af5759-a262-49fd-8ac5-cfd87bdfd0a9",
   "metadata": {},
   "source": [
    "#### Index Positions Start at 0, Not 1\n",
    "Like most programming language, first item in list has index 0 instead of 1. If you want to access item at n number, use n-1 index"
   ]
  },
  {
   "cell_type": "code",
   "execution_count": 4,
   "id": "1212f665-e017-4038-a3d5-50d192afda0a",
   "metadata": {},
   "outputs": [
    {
     "name": "stdout",
     "output_type": "stream",
     "text": [
      "cannandale\n"
     ]
    }
   ],
   "source": [
    "# Item at 2 number is at index 1\n",
    "print(bicycles[1])"
   ]
  },
  {
   "cell_type": "markdown",
   "id": "b0f47d0b-20df-4cdb-a301-56e26aaa38b4",
   "metadata": {},
   "source": [
    "> **NOTE:** We can use negative integer to access items in list. Negative integer access item from the end. You can access last item without knowing index or length of list"
   ]
  },
  {
   "cell_type": "code",
   "execution_count": 5,
   "id": "4d1653e4-e49d-40d5-93bb-096a4e3a1a48",
   "metadata": {},
   "outputs": [
    {
     "name": "stdout",
     "output_type": "stream",
     "text": [
      "specialized\n"
     ]
    }
   ],
   "source": [
    "# Access last item of list\n",
    "print(bicycles[-1])"
   ]
  },
  {
   "cell_type": "code",
   "execution_count": 6,
   "id": "80b0485f-4295-47e7-a47c-a207e3214e98",
   "metadata": {},
   "outputs": [
    {
     "name": "stdout",
     "output_type": "stream",
     "text": [
      "redline\n"
     ]
    }
   ],
   "source": [
    "# Access second last item of list\n",
    "print(bicycles[-2])"
   ]
  },
  {
   "cell_type": "markdown",
   "id": "1d37168a-c098-40f3-a5bf-5b9f865c5b0a",
   "metadata": {},
   "source": [
    "#### Using items from a list\n",
    "We can use single item from list like anyother variable"
   ]
  },
  {
   "cell_type": "code",
   "execution_count": 7,
   "id": "a558eaa5-12b5-4699-b645-2f5c21cd95d1",
   "metadata": {},
   "outputs": [
    {
     "name": "stdout",
     "output_type": "stream",
     "text": [
      "My first bicycle was a Trek\n"
     ]
    }
   ],
   "source": [
    "message = f\"My first bicycle was a {bicycles[0].title()}\"\n",
    "print(message)"
   ]
  },
  {
   "cell_type": "markdown",
   "id": "20c22b95-e010-428d-bcd9-497ffbc06534",
   "metadata": {},
   "source": [
    "#### Exercise 3-1: Names\n",
    "Store the names of a few of your friends in a list called names. Print each person’s name by accessing each element in the list, one at a time"
   ]
  },
  {
   "cell_type": "code",
   "execution_count": 8,
   "id": "ed481f39-c1e2-44d8-828e-28e377723e0e",
   "metadata": {},
   "outputs": [
    {
     "name": "stdout",
     "output_type": "stream",
     "text": [
      "John\n",
      "Carmack\n"
     ]
    }
   ],
   "source": [
    "names = [\"john\", \"carmack\"]\n",
    "print(names[0].title())\n",
    "print(names[1].title())"
   ]
  },
  {
   "cell_type": "markdown",
   "id": "ef983f30-9cfd-418e-a00f-2793974f27cf",
   "metadata": {},
   "source": [
    "#### Exercise 3-2: Greetings\n",
    "The text of each message should be the same, but each message should be personalized with the person’s name."
   ]
  },
  {
   "cell_type": "code",
   "execution_count": 9,
   "id": "3c1cd854-d4de-47a3-84a3-6bdd277e7911",
   "metadata": {},
   "outputs": [
    {
     "name": "stdout",
     "output_type": "stream",
     "text": [
      "Hello, John\n",
      "Hello, Carmack\n"
     ]
    }
   ],
   "source": [
    "print(f\"Hello, {names[0].title()}\")\n",
    "print(f\"Hello, {names[1].title()}\")"
   ]
  },
  {
   "cell_type": "markdown",
   "id": "1a0b5175-f73b-4375-99c2-00490290da6f",
   "metadata": {},
   "source": [
    "#### Exercise 3-3: You Own List\n",
    "Think of your favorite mode of transportation, such as a motorcycle or a car, and make a list that stores several examples. Use your list to print a series of statements about these items, such as “I would like to own a Honda motorcycle.”"
   ]
  },
  {
   "cell_type": "code",
   "execution_count": 10,
   "id": "6f886ebc-0ddb-47fe-859c-723d0491c8d0",
   "metadata": {},
   "outputs": [
    {
     "name": "stdout",
     "output_type": "stream",
     "text": [
      "I would like to own a Honda motorcycle.\n",
      "I would like to own a Suzuki motorcycle.\n",
      "I would like to own a Hayabuza motorcycle.\n"
     ]
    }
   ],
   "source": [
    "motorcycles = [\"honda\", \"suzuki\", \"hayabuza\"]\n",
    "print(f\"I would like to own a {motorcycles[0].title()} motorcycle.\")\n",
    "print(f\"I would like to own a {motorcycles[1].title()} motorcycle.\")\n",
    "print(f\"I would like to own a {motorcycles[2].title()} motorcycle.\")"
   ]
  },
  {
   "cell_type": "markdown",
   "id": "49d28876-41f2-4a74-baab-dbef0f86b456",
   "metadata": {},
   "source": [
    "#### Modifying element in python"
   ]
  },
  {
   "cell_type": "code",
   "execution_count": 11,
   "id": "e02ad7cd-d9ee-4569-a1c0-bc43b7832663",
   "metadata": {},
   "outputs": [
    {
     "name": "stdout",
     "output_type": "stream",
     "text": [
      "honda\n"
     ]
    }
   ],
   "source": [
    "motorcycles = [\"honda\", \"suzuki\", \"hayabuza\"]\n",
    "print(motorcycles[0])"
   ]
  },
  {
   "cell_type": "code",
   "execution_count": 12,
   "id": "a6b60907-3314-4e20-bda3-f84b9dfed4e6",
   "metadata": {},
   "outputs": [
    {
     "name": "stdout",
     "output_type": "stream",
     "text": [
      "ducati\n"
     ]
    }
   ],
   "source": [
    "# Changing 1st elemnt to ducati\n",
    "motorcycles[0] = \"ducati\"\n",
    "print(motorcycles[0])"
   ]
  },
  {
   "cell_type": "markdown",
   "id": "0000df56-7cf3-4eb0-b676-2595f31a0ead",
   "metadata": {},
   "source": [
    "#### Appending new item in the list"
   ]
  },
  {
   "cell_type": "markdown",
   "id": "83feca65-a16e-4366-aa46-e911a75d09cf",
   "metadata": {},
   "source": [
    "**At the end of list**\n",
    "\n",
    "`list.append(\"item\")` is used to add item at the end of list"
   ]
  },
  {
   "cell_type": "code",
   "execution_count": 13,
   "id": "4811151b-ea1f-472f-830d-f2486f6dfcf4",
   "metadata": {},
   "outputs": [
    {
     "name": "stdout",
     "output_type": "stream",
     "text": [
      "['honda', 'suzuki', 'hayabuza']\n",
      "['honda', 'suzuki', 'hayabuza', 'honda']\n"
     ]
    }
   ],
   "source": [
    "motorcycles = [\"honda\", \"suzuki\", \"hayabuza\"]\n",
    "print(motorcycles)\n",
    "motorcycles.append(\"honda\")\n",
    "print(motorcycles)"
   ]
  },
  {
   "cell_type": "markdown",
   "id": "578e9c85-aed4-4f95-a6ea-363ecf0aa74c",
   "metadata": {},
   "source": [
    "`list.append(\"item\")` can also be used to form a new list from empty list"
   ]
  },
  {
   "cell_type": "code",
   "execution_count": 14,
   "id": "df78dab1-510b-4213-9d0b-37e64bce9651",
   "metadata": {},
   "outputs": [
    {
     "name": "stdout",
     "output_type": "stream",
     "text": [
      "Enter a item to add to list\n"
     ]
    },
    {
     "name": "stdin",
     "output_type": "stream",
     "text": [
      " mountain\n"
     ]
    },
    {
     "name": "stdout",
     "output_type": "stream",
     "text": [
      "Enter another item to add to list\n"
     ]
    },
    {
     "name": "stdin",
     "output_type": "stream",
     "text": [
      " river\n"
     ]
    },
    {
     "name": "stdout",
     "output_type": "stream",
     "text": [
      "['mountain', 'river']\n"
     ]
    }
   ],
   "source": [
    "items = [] # declaring an empty list\n",
    "print(\"Enter a item to add to list\")\n",
    "items.append(input())\n",
    "print(\"Enter another item to add to list\")\n",
    "items.append(input())\n",
    "print(items)"
   ]
  },
  {
   "cell_type": "markdown",
   "id": "932bd1e0-4516-4753-a3b0-d5b5025a31bc",
   "metadata": {},
   "source": [
    "**Inserting item a particular index in list**\n",
    "Insert an item at a given position. The first argument is the index of the element before which to insert, so `list.insert(0, x)` inserts at the front of the list, and `list.insert(len(a), x)` is equivalent to `list.append(x)`."
   ]
  },
  {
   "cell_type": "code",
   "execution_count": 15,
   "id": "82d14104-1c91-4203-9da9-f70c3f2fab77",
   "metadata": {},
   "outputs": [
    {
     "name": "stdout",
     "output_type": "stream",
     "text": [
      "['honda', 'suzuki', 'hayabuza']\n",
      "['honda', 'suzuki', 'ktm', 'hayabuza']\n"
     ]
    }
   ],
   "source": [
    "motorcycles = [\"honda\", \"suzuki\", \"hayabuza\"]\n",
    "print(motorcycles)\n",
    "motorcycles.insert(2, 'ktm')\n",
    "print(motorcycles)"
   ]
  },
  {
   "cell_type": "markdown",
   "id": "cdc07fa8-4c36-45ed-b97e-0807214e012d",
   "metadata": {},
   "source": [
    "#### Deleting item from list"
   ]
  },
  {
   "cell_type": "markdown",
   "id": "3ab84f50-d6a7-4c4b-8222-ae609d9004c2",
   "metadata": {},
   "source": [
    "**Delete item using index**\n",
    "Use `del(list[index])` to delete item at particular position in list"
   ]
  },
  {
   "cell_type": "code",
   "execution_count": 16,
   "id": "84df5ae8-8f13-4fe6-93c5-a45c0d371244",
   "metadata": {},
   "outputs": [
    {
     "name": "stdout",
     "output_type": "stream",
     "text": [
      "['honda', 'suzuki', 'hayabuza']\n",
      "['honda', 'hayabuza']\n"
     ]
    }
   ],
   "source": [
    "motorcycles = [\"honda\", \"suzuki\", \"hayabuza\"]\n",
    "print(motorcycles)\n",
    "del(motorcycles[1])\n",
    "print(motorcycles)"
   ]
  },
  {
   "cell_type": "markdown",
   "id": "fa8f8cfe-0ca4-4099-b2f1-a81ce9857e8f",
   "metadata": {},
   "source": [
    "**Removing last element from list**\n",
    "`del(-1)` doesn't returns value. If you want to remove a value while getting the value for last time use pop. For example, you might want to get the x and y position of an alien that\n",
    "was just shot down, so you can draw an explosion at that position."
   ]
  },
  {
   "cell_type": "code",
   "execution_count": 17,
   "id": "43c2eb72-eb1e-4ad4-bcc8-8c6356420b81",
   "metadata": {},
   "outputs": [
    {
     "name": "stdout",
     "output_type": "stream",
     "text": [
      "['honda', 'suzuki', 'hayabuza', 'yamaha']\n",
      "yamaha\n",
      "['honda', 'suzuki', 'hayabuza']\n"
     ]
    }
   ],
   "source": [
    "motorcycles = [\"honda\", \"suzuki\", \"hayabuza\", \"yamaha\"]\n",
    "print(motorcycles)\n",
    "\n",
    "popped_motorcycles = motorcycles.pop()\n",
    "print(popped_motorcycles)\n",
    "print(motorcycles)"
   ]
  },
  {
   "cell_type": "markdown",
   "id": "b454ec96-9846-4573-bed7-9b59c9ca8e07",
   "metadata": {},
   "source": [
    "We can see we still have the access to value, even after popping it. We can provide index to remove particular item."
   ]
  },
  {
   "cell_type": "code",
   "execution_count": 18,
   "id": "8edeebaa-753d-4b4c-a5db-6625c7bff1f7",
   "metadata": {},
   "outputs": [
    {
     "name": "stdout",
     "output_type": "stream",
     "text": [
      "['honda', 'suzuki', 'hayabuza', 'yamaha']\n",
      "suzuki\n",
      "['honda', 'hayabuza', 'yamaha']\n"
     ]
    }
   ],
   "source": [
    "motorcycles = [\"honda\", \"suzuki\", \"hayabuza\", \"yamaha\"]\n",
    "print(motorcycles)\n",
    "\n",
    "# removing 2nd item\n",
    "popped_motorcycle = motorcycles.pop(1)\n",
    "print(popped_motorcycle)\n",
    "print(motorcycles)"
   ]
  },
  {
   "cell_type": "markdown",
   "id": "52d8ee5e-d702-480b-8acf-17ba751e4700",
   "metadata": {},
   "source": [
    "**Remove item by value**\n",
    "`list.remove(value)` is used to remove item by value."
   ]
  },
  {
   "cell_type": "code",
   "execution_count": 19,
   "id": "7cf17873-27ce-432d-9ab3-ac29a35f654d",
   "metadata": {},
   "outputs": [
    {
     "name": "stdout",
     "output_type": "stream",
     "text": [
      "['honda', 'suzuki', 'hayabuza', 'ducati', 'yamaha']\n",
      "I don't want Ducati.\n",
      "['honda', 'suzuki', 'hayabuza', 'yamaha']\n"
     ]
    }
   ],
   "source": [
    "dont_want = 'ducati'\n",
    "motorcycles = [\"honda\", \"suzuki\", \"hayabuza\", \"ducati\", \"yamaha\"]\n",
    "print(motorcycles)\n",
    "\n",
    "# remove by value\n",
    "motorcycles.remove(dont_want)\n",
    "print(f\"I don't want {dont_want.title()}.\")\n",
    "print(motorcycles)"
   ]
  },
  {
   "cell_type": "markdown",
   "id": "8d1f8dd0-fb7a-4b06-bbb8-7c494d24d0e2",
   "metadata": {},
   "source": [
    "I item is not in the list `ValueError` is thrown.\n",
    "\n",
    ">The remove() method deletes only the first occurrence of the value you specify. For more occurrence we have to rerun."
   ]
  },
  {
   "cell_type": "markdown",
   "id": "531d142f-bb2d-4e19-937a-1e2803ede0ff",
   "metadata": {},
   "source": [
    "#### Exercise: 3-4. Guest List: \n",
    "If you could invite anyone to dinner, who would you invite? Make a list that includes at least three people you’d like to invite to dinner. Then use your list to print a message to each person, inviting\n",
    "them to dinner."
   ]
  },
  {
   "cell_type": "code",
   "execution_count": 20,
   "id": "6ff11458-00a7-4577-b6ac-d4ea167268fe",
   "metadata": {},
   "outputs": [
    {
     "name": "stdout",
     "output_type": "stream",
     "text": [
      "Linus Torvalds would you like to come to my dinner?\n",
      "John Carmack would you like to come to my dinner?\n",
      "Guido Van Rossum would you like to come to my dinner?\n"
     ]
    }
   ],
   "source": [
    "guest_list = ['Linus Torvalds', 'John Carmack', 'Guido van Rossum']\n",
    "print(f\"{guest_list[0].title()} would you like to come to my dinner?\")\n",
    "print(f\"{guest_list[1].title()} would you like to come to my dinner?\")\n",
    "print(f\"{guest_list[2].title()} would you like to come to my dinner?\")"
   ]
  },
  {
   "cell_type": "markdown",
   "id": "c414d00d-2e59-4ce8-95cd-3a7570abed65",
   "metadata": {},
   "source": [
    "#### Exercise: 3-5. Changing Guest List: \n",
    "You just heard that one of your guests can’t make the dinner, so you need to send out a new set of invitations. You’ll have to think of\n",
    "someone else to invite. \n",
    "- Start with your program from Exercise 3-4. Add a print() call at the end of your program stating the name of the guest who can’t make it.\n",
    "- Modify your list, replacing the name of the guest who can’t make it with the name of the new person you are inviting.\n",
    "- Print a second set of invitation messages, one for each person who is still in your list."
   ]
  },
  {
   "cell_type": "code",
   "execution_count": 21,
   "id": "c79d69a8-0890-48f2-ab9c-ccaade056f00",
   "metadata": {},
   "outputs": [
    {
     "name": "stdout",
     "output_type": "stream",
     "text": [
      "Sorry, John Carmack couldn't make it to dinner.\n",
      "Linus Torvalds would you like to come to my dinner?\n",
      "Tim Berners-Lee would you like to come to my dinner?\n",
      "Guido Van Rossum would you like to come to my dinner?\n"
     ]
    }
   ],
   "source": [
    "print(f\"Sorry, {guest_list[1].title()} couldn't make it to dinner.\")\n",
    "guest_list[1] = \"Tim Berners-Lee\"\n",
    "print(f\"{guest_list[0].title()} would you like to come to my dinner?\")\n",
    "print(f\"{guest_list[1].title()} would you like to come to my dinner?\")\n",
    "print(f\"{guest_list[2].title()} would you like to come to my dinner?\")"
   ]
  },
  {
   "cell_type": "markdown",
   "id": "e82c5cc2-8c28-4721-b883-aab8f15434c3",
   "metadata": {},
   "source": [
    "#### Exercise: 3-6. More Guests: \n",
    "You just found a bigger dinner table, so now more space is available. Think of three more guests to invite to dinner.\n",
    "- Start with your program from Exercise 3-4 or Exercise 3-5. Add a print() call to the end of your program informing people that you found a bigger dinner table.\n",
    "- Use `insert()` to add one new guest to the beginning of your list.\n",
    "- Use `insert()` to add one new guest to the middle of your list.\n",
    "- Use `append()` to add one new guest to the end of your list.\n",
    "- Print a new set of invitation messages, one for each person in your list"
   ]
  },
  {
   "cell_type": "code",
   "execution_count": 22,
   "id": "92738091-d296-4666-a465-9debb4674b3e",
   "metadata": {},
   "outputs": [
    {
     "name": "stdout",
     "output_type": "stream",
     "text": [
      "Rasmus Lerdorf would you like to come to my dinner?\n",
      "James Gosling would you like to come to my dinner?\n",
      "Linus Torvalds would you like to come to my dinner?\n",
      "Tim Berners-Lee would you like to come to my dinner?\n",
      "Guido Van Rossum would you like to come to my dinner?\n",
      "Richard Stallman would you like to come to my dinner?\n",
      "We have found a bigger table!\n"
     ]
    }
   ],
   "source": [
    "guest_list.insert(0, \"Rasmus Lerdorf\")\n",
    "guest_list.insert(1, \"James Gosling\")\n",
    "guest_list.append(\"Richard Stallman\")\n",
    "print(f\"{guest_list[0].title()} would you like to come to my dinner?\")\n",
    "print(f\"{guest_list[1].title()} would you like to come to my dinner?\")\n",
    "print(f\"{guest_list[2].title()} would you like to come to my dinner?\")\n",
    "print(f\"{guest_list[3].title()} would you like to come to my dinner?\")\n",
    "print(f\"{guest_list[4].title()} would you like to come to my dinner?\")\n",
    "print(f\"{guest_list[5].title()} would you like to come to my dinner?\")\n",
    "print(\"We have found a bigger table!\")"
   ]
  },
  {
   "cell_type": "markdown",
   "id": "9e738d38-12f3-481c-a16e-2afdc8f670e3",
   "metadata": {},
   "source": [
    "#### Exercise: 3-7. Introducing Lists:\n",
    "Shrinking Guest List: You just found out that your new dinner table won’t arrive in time for the dinner, and you have space for only two guests.\n",
    "- Start with your program from Exercise 3-6. Add a new line that prints a message saying that you can invite only two people for dinner.\n",
    "- Use `pop()` to remove guests from your list one at a time until only two names remain in your list. Each time you pop a name from your list, print a message to that person letting them know you’re sorry you can’t invite them to dinner.\n",
    "- Print a message to each of the two people still on your list, letting them know they’re still invited.\n",
    "- Use `del` to remove the last two names from your list, so you have an empty list. Print your list to make sure you actually have an empty list at the end of your program."
   ]
  },
  {
   "cell_type": "code",
   "execution_count": 23,
   "id": "5a92df5c-9ee9-4bc2-ac8e-9d9d60154f26",
   "metadata": {},
   "outputs": [
    {
     "name": "stdout",
     "output_type": "stream",
     "text": [
      "We can only invite two person\n",
      "Sorry, small table we can't invite you Rasmus Lerdorf!\n",
      "Sorry, small table we can't invite you Linus Torvalds!\n",
      "Sorry, small table we can't invite you Guido van Rossum!\n",
      "Sorry, small table we can't invite you Tim Berners-Lee!\n"
     ]
    }
   ],
   "source": [
    "print(\"We can only invite two person\")\n",
    "print(f\"Sorry, small table we can't invite you {guest_list.pop(0)}!\")\n",
    "print(f\"Sorry, small table we can't invite you {guest_list.pop(1)}!\")\n",
    "print(f\"Sorry, small table we can't invite you {guest_list.pop(2)}!\")\n",
    "print(f\"Sorry, small table we can't invite you {guest_list.pop(1)}!\")"
   ]
  },
  {
   "cell_type": "code",
   "execution_count": 24,
   "id": "5e2d3389-44ea-4cc4-a469-5dfac94b5b71",
   "metadata": {},
   "outputs": [
    {
     "name": "stdout",
     "output_type": "stream",
     "text": [
      "James Gosling would you like to come to my dinner?\n",
      "Richard Stallman would you like to come to my dinner?\n"
     ]
    }
   ],
   "source": [
    "print(f\"{guest_list[0].title()} would you like to come to my dinner?\")\n",
    "print(f\"{guest_list[1].title()} would you like to come to my dinner?\")\n"
   ]
  },
  {
   "cell_type": "code",
   "execution_count": 25,
   "id": "66b1f572-530f-4c72-8674-519812d82a72",
   "metadata": {},
   "outputs": [
    {
     "name": "stdout",
     "output_type": "stream",
     "text": [
      "[]\n"
     ]
    }
   ],
   "source": [
    "\n",
    "del(guest_list[0])\n",
    "del(guest_list[0])\n",
    "\n",
    "print(guest_list)"
   ]
  },
  {
   "cell_type": "markdown",
   "id": "62bd0a33-103c-4b69-8ba6-4c5e48518c6d",
   "metadata": {},
   "source": [
    "### Sorthing List Permanently with `sort()`\n",
    "`list.sort()` sorts list in ascending order in place(permanently)."
   ]
  },
  {
   "cell_type": "code",
   "execution_count": 26,
   "id": "c38acc6c-e3b9-443d-af87-b84693f22a20",
   "metadata": {},
   "outputs": [
    {
     "name": "stdout",
     "output_type": "stream",
     "text": [
      "['mclaren', 'ferrari', 'porsche', 'bugatti', 'maserati']\n",
      "['bugatti', 'ferrari', 'maserati', 'mclaren', 'porsche']\n"
     ]
    }
   ],
   "source": [
    "cars = [\"mclaren\", \"ferrari\", \"porsche\", \"bugatti\", \"maserati\"]\n",
    "print(cars)\n",
    "cars.sort()\n",
    "print(cars)"
   ]
  },
  {
   "cell_type": "markdown",
   "id": "18ba91f2-0f4c-4cae-8412-2fde864b0b6c",
   "metadata": {},
   "source": [
    "Sort in reverse order by passing `reverse=True` argument"
   ]
  },
  {
   "cell_type": "code",
   "execution_count": 27,
   "id": "a248e9a8-e7a4-4ced-ab0e-9958eb5ea709",
   "metadata": {},
   "outputs": [
    {
     "name": "stdout",
     "output_type": "stream",
     "text": [
      "['porsche', 'mclaren', 'maserati', 'ferrari', 'bugatti']\n"
     ]
    }
   ],
   "source": [
    "cars.sort(reverse=True)\n",
    "print(cars)"
   ]
  },
  {
   "cell_type": "code",
   "execution_count": 28,
   "id": "00975c4a-9195-42f4-9959-9f42d418279c",
   "metadata": {},
   "outputs": [
    {
     "name": "stdout",
     "output_type": "stream",
     "text": [
      "Original List\n",
      "['mclaren', 'ferrari', 'porsche', 'bugatti', 'maserati']\n",
      "Temporary Sorted List\n",
      "['bugatti', 'ferrari', 'maserati', 'mclaren', 'porsche']\n"
     ]
    }
   ],
   "source": [
    "cars = [\"mclaren\", \"ferrari\", \"porsche\", \"bugatti\", \"maserati\"]\n",
    "print(\"Original List\")\n",
    "print(cars)\n",
    "\n",
    "print(\"Temporary Sorted List\")\n",
    "print(sorted(cars))"
   ]
  },
  {
   "cell_type": "markdown",
   "id": "c52f239d-ccf6-4a8a-9b63-52b71af19ed5",
   "metadata": {},
   "source": [
    "> Capital letters in a list are treated differently than smallcase letter. Hence, for capital letters sorting algorithm is different"
   ]
  },
  {
   "cell_type": "markdown",
   "id": "4c20b02f-1307-449a-9296-8d697df7b73d",
   "metadata": {},
   "source": [
    "#### Revemrse the list using `reverse()`\n",
    "`list.reverse()` does not sorts the list in descending order. It reverses the list making any last element first, first element last"
   ]
  },
  {
   "cell_type": "code",
   "execution_count": 29,
   "id": "42a67e05-d0c4-48da-b924-453b13d09545",
   "metadata": {},
   "outputs": [
    {
     "name": "stdout",
     "output_type": "stream",
     "text": [
      "Normal List: ['mclaren', 'ferrari', 'porsche', 'bugatti', 'maserati']\n",
      "Reverse List: ['maserati', 'bugatti', 'porsche', 'ferrari', 'mclaren']\n"
     ]
    }
   ],
   "source": [
    "cars = [\"mclaren\", \"ferrari\", \"porsche\", \"bugatti\", \"maserati\"]\n",
    "print(f\"Normal List: {cars}\")\n",
    "cars.reverse()\n",
    "print(f\"Reverse List: {cars}\")"
   ]
  },
  {
   "cell_type": "markdown",
   "id": "6f747ee1-5a4a-4bf2-8a86-8d28032156ff",
   "metadata": {},
   "source": [
    "#### Finding length of list\n",
    "`len(list)` is used to find the lenght of the list. Item is counted from 1 not from 0"
   ]
  },
  {
   "cell_type": "code",
   "execution_count": 30,
   "id": "8ecd37a5-ded7-4b17-afba-bb763c349783",
   "metadata": {},
   "outputs": [
    {
     "name": "stdout",
     "output_type": "stream",
     "text": [
      "5\n"
     ]
    }
   ],
   "source": [
    "print(len(cars))"
   ]
  },
  {
   "cell_type": "markdown",
   "id": "cb61ed4d-af93-4d89-b652-e8ff575187e4",
   "metadata": {},
   "source": [
    "#### Exercise3-8. Seeing the World: \n",
    "Think of at least five places in the world you’d like to visit.\n",
    "- Store the locations in a list. Make sure the list is not in alphabetical order.\n",
    "- Print your list in its original order. Don’t worry about printing the list neatly, just print it as a raw Python list.\n",
    "- Use sorted() to print your list in alphabetical order without modifying the actual list.\n",
    "- Show that your list is still in its original order by printing it.\n",
    "- Use sorted() to print your list in reverse alphabetical order without changing the order of the original list.\n",
    "- Show that your list is still in its original order by printing it again.\n",
    "- Use reverse() to change the order of your list. Print the list to show that its order has changed.\n",
    "- Use reverse() to change the order of your list again. Print the list to show it’s back to its original order.\n",
    "- Use sort() to change your list so it’s stored in alphabetical order. Print the list to show that its order has been changed.\n",
    "- Use sort() to change your list so it’s stored in reverse alphabetical order.\n",
    "Print the list to show that its order has changed."
   ]
  },
  {
   "cell_type": "code",
   "execution_count": 31,
   "id": "17a6b4f0-8aa7-4b4c-b3df-7af349cc697c",
   "metadata": {},
   "outputs": [
    {
     "name": "stdout",
     "output_type": "stream",
     "text": [
      "['london', 'new york', 'tokyo', 'denmark', 'switzerland']\n",
      "['denmark', 'london', 'new york', 'switzerland', 'tokyo']\n",
      "['london', 'new york', 'tokyo', 'denmark', 'switzerland']\n",
      "['tokyo', 'switzerland', 'new york', 'london', 'denmark']\n",
      "['london', 'new york', 'tokyo', 'denmark', 'switzerland']\n",
      "['switzerland', 'denmark', 'tokyo', 'new york', 'london']\n",
      "['london', 'new york', 'tokyo', 'denmark', 'switzerland']\n",
      "['denmark', 'london', 'new york', 'switzerland', 'tokyo']\n",
      "['tokyo', 'switzerland', 'new york', 'london', 'denmark']\n"
     ]
    }
   ],
   "source": [
    "places = [\"london\", \"new york\", \"tokyo\", \"denmark\", \"switzerland\"]\n",
    "print(places)\n",
    "\n",
    "print(sorted(places))\n",
    "\n",
    "print(places)\n",
    "\n",
    "print(sorted(places, reverse=True))\n",
    "\n",
    "print(places)\n",
    "\n",
    "places.reverse()\n",
    "print(places)\n",
    "\n",
    "places.reverse()\n",
    "print(places)\n",
    "\n",
    "places.sort()\n",
    "print(places)\n",
    "\n",
    "places.sort(reverse=True)\n",
    "print(places)"
   ]
  },
  {
   "cell_type": "markdown",
   "id": "3f09d553-00c2-4b91-86c1-a2dba8ef5838",
   "metadata": {},
   "source": [
    "#### 3-9. Dinner Guests: \n",
    "Working with one of the programs from Exercises 3-4 through 3-7 (page 42), use len() to print a message indicating the number of people you are inviting to dinner."
   ]
  },
  {
   "cell_type": "code",
   "execution_count": 33,
   "id": "68780455-92a1-4c26-a10b-813e0739e692",
   "metadata": {},
   "outputs": [
    {
     "name": "stdout",
     "output_type": "stream",
     "text": [
      "0\n"
     ]
    }
   ],
   "source": [
    "print(len(guest_list))"
   ]
  },
  {
   "cell_type": "markdown",
   "id": "d7c7beaa-30c7-42c5-9f18-6e37621743c5",
   "metadata": {},
   "source": [
    "#### 3-10. Every Function: \n",
    "Think of something you could store in a list. For example, you could make a list of mountains, rivers, countries, cities, languages, or anything else you’d like. Write a program that creates a list containing these items and then uses each function introduced in this chapter at least once."
   ]
  },
  {
   "cell_type": "code",
   "execution_count": 35,
   "id": "fb47becc-64a9-4e52-80ca-366d0f08c3e4",
   "metadata": {},
   "outputs": [
    {
     "name": "stdout",
     "output_type": "stream",
     "text": [
      "First River: nile\n",
      "Last River: parana\n",
      "Second Item Modified: ['nile', 'congo', 'yangtze', 'mississippi', 'parana']\n",
      "New Item Added: ['nile', 'congo', 'yangtze', 'mississippi', 'parana', 'amazon']\n",
      "Second Item Deleted: ['nile', 'yangtze', 'mississippi', 'parana', 'amazon']\n",
      "Added New First Item: ['ganga', 'nile', 'yangtze', 'mississippi', 'parana', 'amazon']\n",
      "Removing amazon from list\n",
      "Removing Second nile from list\n",
      "Removing yangtze by value: ['ganga', 'mississippi', 'parana']\n",
      "reverse the order ['parana', 'mississippi', 'ganga']\n",
      "temp sorted list ['ganga', 'mississippi', 'parana']\n",
      "temp sorted reverse list ['parana', 'mississippi', 'ganga']\n",
      "permanently sorted list ['ganga', 'mississippi', 'parana']\n",
      "permanently sorted list ['parana', 'mississippi', 'ganga']\n",
      "length 3\n"
     ]
    }
   ],
   "source": [
    "rivers = [\"nile\", \"amazon\", \"yangtze\", \"mississippi\", \"parana\"]\n",
    "print(f\"First River: {rivers[0]}\")\n",
    "\n",
    "print(f\"Last River: {rivers[-1]}\")\n",
    "\n",
    "rivers[1] = \"congo\"\n",
    "print(f\"Second Item Modified: {rivers}\")\n",
    "\n",
    "rivers.append(\"amazon\")\n",
    "print(f\"New Item Added: {rivers}\")\n",
    "\n",
    "del rivers[1]\n",
    "print(f\"Second Item Deleted: {rivers}\")\n",
    "\n",
    "rivers.insert(0, \"ganga\")\n",
    "print(f\"Added New First Item: {rivers}\")\n",
    "\n",
    "print(f\"Removing {rivers.pop()} from list\")\n",
    "\n",
    "print(f\"Removing Second {rivers.pop(1)} from list\")\n",
    "\n",
    "rivers.remove(\"yangtze\")\n",
    "print(f\"Removing yangtze by value: {rivers}\")\n",
    "\n",
    "rivers.reverse()\n",
    "print(f\"reverse the order {rivers}\")\n",
    "\n",
    "print(f\"temp sorted list {sorted(rivers)}\")\n",
    "print(f\"temp sorted reverse list {sorted(rivers, reverse=True)}\")\n",
    "rivers.sort()\n",
    "print(f\"permanently sorted list {rivers}\")\n",
    "rivers.sort(reverse=True)\n",
    "print(f\"permanently sorted list {rivers}\")\n",
    "\n",
    "print(f\"length {len(rivers)}\")\n"
   ]
  },
  {
   "cell_type": "markdown",
   "id": "1004abe3-e35b-49e2-8c7b-3ab766a88709",
   "metadata": {},
   "source": [
    "#### 3-11. Intentional Error: \n",
    "If you haven’t received an index error in one of your programs yet, try to make one happen. Change an index in one of your programs to produce an index error. Make sure you correct the error before closing the program."
   ]
  },
  {
   "cell_type": "code",
   "execution_count": 36,
   "id": "6720d96f-c576-470f-a718-9d8c3cd0b157",
   "metadata": {},
   "outputs": [
    {
     "ename": "IndexError",
     "evalue": "list index out of range",
     "output_type": "error",
     "traceback": [
      "\u001b[0;31m---------------------------------------------------------------------------\u001b[0m",
      "\u001b[0;31mIndexError\u001b[0m                                Traceback (most recent call last)",
      "Cell \u001b[0;32mIn[36], line 1\u001b[0m\n\u001b[0;32m----> 1\u001b[0m \u001b[38;5;28mprint\u001b[39m(\u001b[43mrivers\u001b[49m\u001b[43m[\u001b[49m\u001b[38;5;241;43m3\u001b[39;49m\u001b[43m]\u001b[49m)\n",
      "\u001b[0;31mIndexError\u001b[0m: list index out of range"
     ]
    }
   ],
   "source": [
    "print(rivers[3])"
   ]
  }
 ],
 "metadata": {
  "kernelspec": {
   "display_name": "Python 3 (ipykernel)",
   "language": "python",
   "name": "python3"
  },
  "language_info": {
   "codemirror_mode": {
    "name": "ipython",
    "version": 3
   },
   "file_extension": ".py",
   "mimetype": "text/x-python",
   "name": "python",
   "nbconvert_exporter": "python",
   "pygments_lexer": "ipython3",
   "version": "3.10.12"
  }
 },
 "nbformat": 4,
 "nbformat_minor": 5
}
