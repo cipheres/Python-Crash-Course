{
 "cells": [
  {
   "cell_type": "markdown",
   "id": "08197c98-38bb-4c36-9efd-bf1424c9f3d1",
   "metadata": {},
   "source": [
    "# Chapter Two - Variables & Data Types\n",
    "Variables are label to the address where data is stored"
   ]
  },
  {
   "cell_type": "code",
   "execution_count": 1,
   "id": "7f2ad745-cb59-4819-b46b-77ee50db4a9a",
   "metadata": {},
   "outputs": [
    {
     "name": "stdout",
     "output_type": "stream",
     "text": [
      "Hello World Py!\n"
     ]
    }
   ],
   "source": [
    "message = 'Hello World Py!'\n",
    "print(message)"
   ]
  },
  {
   "cell_type": "markdown",
   "id": "74952c07-65fc-42e8-b5ff-3514470873b7",
   "metadata": {},
   "source": [
    "### Rules for naming variable\n",
    "- Variable names can contain number, alphabets & underscore\n",
    "- Names can start with letters & underscore but not with numbers\n",
    "    - `1_score` ❗\n",
    "    - `score_1` ✅\n",
    "- Space in variable name is not allowed. Use underscore instead\n",
    "    - `first name` ❗\n",
    "    - `first_name` ✅\n",
    "- Keep names short but descriptive.\n",
    "- Carefull, while using between l & 1 and between O & 0\n",
    "- Use Capital letters only for constants"
   ]
  },
  {
   "cell_type": "markdown",
   "id": "ac8493a4-3aa0-40cb-ac75-db3b805edc6f",
   "metadata": {},
   "source": [
    "### Name Error\n",
    "Typos while using variable is common. It throw name error"
   ]
  },
  {
   "cell_type": "code",
   "execution_count": 2,
   "id": "05472de6-3a09-4986-874a-74f30b826245",
   "metadata": {},
   "outputs": [
    {
     "ename": "NameError",
     "evalue": "name 'mesage' is not defined",
     "output_type": "error",
     "traceback": [
      "\u001b[0;31m---------------------------------------------------------------------------\u001b[0m",
      "\u001b[0;31mNameError\u001b[0m                                 Traceback (most recent call last)",
      "Cell \u001b[0;32mIn[2], line 2\u001b[0m\n\u001b[1;32m      1\u001b[0m message \u001b[38;5;241m=\u001b[39m \u001b[38;5;124m'\u001b[39m\u001b[38;5;124mName Error Example\u001b[39m\u001b[38;5;124m'\u001b[39m\n\u001b[0;32m----> 2\u001b[0m \u001b[38;5;28mprint\u001b[39m(\u001b[43mmesage\u001b[49m)\n",
      "\u001b[0;31mNameError\u001b[0m: name 'mesage' is not defined"
     ]
    }
   ],
   "source": [
    "message = 'Name Error Example'\n",
    "print(mesage)"
   ]
  },
  {
   "cell_type": "markdown",
   "id": "a18799d4-ee6b-4f8e-b416-92605d42c47f",
   "metadata": {},
   "source": [
    "This is example of name error. This `NameError` tells that there is no variable named `mesage` which is actually miss`s` in name"
   ]
  },
  {
   "cell_type": "markdown",
   "id": "156935ba-93ab-4958-9986-8d9736b97106",
   "metadata": {},
   "source": [
    "### Variables are label\n",
    "Instead of thinking variables as a box which stores value. Think as if a value is given a label which is how python works"
   ]
  },
  {
   "cell_type": "markdown",
   "id": "bb7a633a-620b-472b-83b0-e3684be97973",
   "metadata": {},
   "source": [
    "#### Exercise 2.1\n",
    "**2-1. Simple Message :** Assign a message to a variable, and then print that message."
   ]
  },
  {
   "cell_type": "code",
   "execution_count": 3,
   "id": "f06ec03a-4e28-41a5-8d3c-dfc8717e2bc1",
   "metadata": {},
   "outputs": [
    {
     "name": "stdout",
     "output_type": "stream",
     "text": [
      "Hello, Jaimala\n"
     ]
    }
   ],
   "source": [
    "greeting = 'Hello, Jaimala'\n",
    "print(greeting)"
   ]
  },
  {
   "cell_type": "markdown",
   "id": "bf7394be-51af-4249-a3f0-917b6e73e233",
   "metadata": {},
   "source": [
    "#### Exercise 2.2\n",
    "**2-2. Simple Messages:** Assign a message to a variable, and print that message. Then change the value of the variable to a new message, and print the new message."
   ]
  },
  {
   "cell_type": "code",
   "execution_count": 4,
   "id": "062943a8-6041-4615-a98f-c5616e7c51f8",
   "metadata": {},
   "outputs": [
    {
     "name": "stdout",
     "output_type": "stream",
     "text": [
      "Hello, Agent1\n",
      "Hello, Agent2\n"
     ]
    }
   ],
   "source": [
    "greetings = 'Hello, Agent1'\n",
    "print(greetings)\n",
    "greetings = 'Hello, Agent2'\n",
    "print(greetings)"
   ]
  },
  {
   "cell_type": "markdown",
   "id": "e584174c-96db-41cd-bff7-b5fa1a4fc92f",
   "metadata": {},
   "source": [
    "### Strings\n",
    "There are two methods to store strings using quotes or apostrophes. In python strings a immutable, meaning if once a string object is created it can't be updated but a new string object with changes can be created and reassigned to the same variable\n",
    "```python\n",
    "message_one = \"String using quotes\"\n",
    "message_two = 'String using apostrophes'\n",
    "message_three = \"There's ways to use both in string\"\n",
    "```"
   ]
  },
  {
   "cell_type": "code",
   "execution_count": 1,
   "id": "99b0534d-9eca-4384-9875-32ba2f1c98f8",
   "metadata": {},
   "outputs": [
    {
     "name": "stdout",
     "output_type": "stream",
     "text": [
      "String using quotes\n",
      "String using apostrophes\n",
      "There's ways to use both in string\n"
     ]
    }
   ],
   "source": [
    "message_one = \"String using quotes\"\n",
    "message_two = 'String using apostrophes'\n",
    "message_three = \"There's ways to use both in string\"\n",
    "print(message_one)\n",
    "print(message_two)\n",
    "print(message_three)"
   ]
  },
  {
   "cell_type": "code",
   "execution_count": 2,
   "id": "ad4b1085-1dc7-4ba8-898b-b6865f53716c",
   "metadata": {},
   "outputs": [
    {
     "name": "stdout",
     "output_type": "stream",
     "text": [
      "Ada Lovelance\n"
     ]
    }
   ],
   "source": [
    "name = 'ada lovelance'\n",
    "print(name.title())"
   ]
  },
  {
   "cell_type": "markdown",
   "id": "4535d3ea-adde-4ebb-9f36-0ee58e504564",
   "metadata": {},
   "source": [
    "In this example, the variable `name` refers to the lowercase string \"ada lovelace\". The method `title()` appears after the variable in the `print()` call. A method is an action that Python can perform on a piece of data. The dot (.) after `name` in `name.title()` tells Python to make the `title()` method act on the variable `name`. Every method is followed by a set of parentheses, because methods often need additional information to do their work. That information is provided inside the parentheses. The `title()` function doesn’t need any additional information, so its parentheses are empty.\n",
    "\n",
    "The `title()` method changes each word to title case, where each word begins with a capital letter. This is useful because you’ll often want to think of a name as a piece of information. For example, you might want your program to recognize the input values `Ada`, `ADA`, and `ada` as the same name, and display all of them as `Ada`."
   ]
  },
  {
   "cell_type": "code",
   "execution_count": 3,
   "id": "1a302342-cf70-463b-897b-32ccdd80f5d9",
   "metadata": {},
   "outputs": [
    {
     "name": "stdout",
     "output_type": "stream",
     "text": [
      "ADA LOVELACE\n",
      "ada lovelace\n"
     ]
    }
   ],
   "source": [
    "name = 'Ada Lovelace'\n",
    "print(name.upper())\n",
    "print(name.lower())"
   ]
  },
  {
   "cell_type": "markdown",
   "id": "8a36ea03-70fc-4e05-a054-e56f7124e28d",
   "metadata": {},
   "source": [
    "### Format Strings\n",
    "Python allows to use variables while composing a string"
   ]
  },
  {
   "cell_type": "code",
   "execution_count": 5,
   "id": "a4b5c11c-4865-466f-88ff-d35ef385cda9",
   "metadata": {},
   "outputs": [
    {
     "name": "stdout",
     "output_type": "stream",
     "text": [
      "Ada Lovelace\n"
     ]
    }
   ],
   "source": [
    "first_name = 'ada'\n",
    "last_name = 'lovelace'\n",
    "full_name = f'{first_name} {last_name}'\n",
    "print(full_name.title())"
   ]
  },
  {
   "cell_type": "markdown",
   "id": "d39e00da-977d-4904-b279-dc4bf7cb28dc",
   "metadata": {},
   "source": [
    "To use format string string needs to start with `f` followed by regular string containing variable wrapped in curly braces"
   ]
  },
  {
   "cell_type": "code",
   "execution_count": 7,
   "id": "bfa160cf-08f3-435c-85d5-0f8cb71dd060",
   "metadata": {},
   "outputs": [
    {
     "name": "stdout",
     "output_type": "stream",
     "text": [
      "Hello, Charles Babage!\n"
     ]
    }
   ],
   "source": [
    "first_name = 'charles'\n",
    "last_name = 'babage'\n",
    "full_name = f'{first_name} {last_name}'\n",
    "message = f'Hello, {full_name.title()}!'\n",
    "print(message)"
   ]
  },
  {
   "cell_type": "markdown",
   "id": "e4d912bd-bafd-4c75-9394-5b2403f0a664",
   "metadata": {},
   "source": [
    "### Whitespaces in python strings\n",
    "Whitespaces means tabs, spaces, newline etc.\n",
    "These can be added using various charaters like `\\t` or `\\n` etc"
   ]
  },
  {
   "cell_type": "code",
   "execution_count": 9,
   "id": "1e1846f6-8600-44b9-a4e8-dd95246ae32b",
   "metadata": {},
   "outputs": [
    {
     "name": "stdout",
     "output_type": "stream",
     "text": [
      "Language: Python C Javascript\n",
      "Languages:\n",
      "\tPython\n",
      "\tC\n",
      "\tJavascript\n"
     ]
    }
   ],
   "source": [
    "# Without Whitespaces\n",
    "no_whitespace = \"Language: Python C Javascript\"\n",
    "print(no_whitespace)\n",
    "\n",
    "# With Whitespcae\n",
    "with_whitespace = \"Languages:\\n\\tPython\\n\\tC\\n\\tJavascript\"\n",
    "print(with_whitespace)"
   ]
  },
  {
   "cell_type": "markdown",
   "id": "4792b932-53f3-4b57-957c-a15324adcd8b",
   "metadata": {},
   "source": [
    "### Stripping Whitespaces\n",
    "`'python'` and `'python '` are not equal in python programs. This could cause issues when comparing strings. In python we can strip whitespaces using function like `rstrip()`, `lstrip()` or `strip()`"
   ]
  },
  {
   "cell_type": "code",
   "execution_count": 14,
   "id": "dee45c6e-2182-43e7-b33f-d94c45668a6e",
   "metadata": {},
   "outputs": [],
   "source": [
    "fav_dish = 'pasta '"
   ]
  },
  {
   "cell_type": "code",
   "execution_count": 15,
   "id": "f5d06e66-ec09-428d-b5f5-8b4724a87a31",
   "metadata": {},
   "outputs": [
    {
     "data": {
      "text/plain": [
       "'pasta '"
      ]
     },
     "execution_count": 15,
     "metadata": {},
     "output_type": "execute_result"
    }
   ],
   "source": [
    "fav_dish"
   ]
  },
  {
   "cell_type": "markdown",
   "id": "51cb967b-56bf-470e-b279-8110d6f39ad7",
   "metadata": {},
   "source": [
    "String contains spaces at the end"
   ]
  },
  {
   "cell_type": "code",
   "execution_count": 16,
   "id": "f3ae3571-851f-4078-b55e-fa356f0907a2",
   "metadata": {},
   "outputs": [
    {
     "data": {
      "text/plain": [
       "'pasta'"
      ]
     },
     "execution_count": 16,
     "metadata": {},
     "output_type": "execute_result"
    }
   ],
   "source": [
    "fav_dish.rstrip()"
   ]
  },
  {
   "cell_type": "markdown",
   "id": "ca414f36-d27e-4447-9ded-1ac67284e38c",
   "metadata": {},
   "source": [
    "Space is removed from the end of string"
   ]
  },
  {
   "cell_type": "markdown",
   "id": "17bfd1eb-4663-45a5-b48c-2f0f133d1810",
   "metadata": {},
   "source": [
    "- `lstrip()` : removes whitespace only on left side of string\n",
    "- `rstrip()` : removes whitespace only on right side of string\n",
    "- `strip()`  : removes whitespace on both sides of string"
   ]
  },
  {
   "cell_type": "code",
   "execution_count": 17,
   "id": "8b39a590-3846-4f32-a6e1-3733523c9676",
   "metadata": {},
   "outputs": [],
   "source": [
    "new_dish = \"   yoghurt   \""
   ]
  },
  {
   "cell_type": "code",
   "execution_count": 18,
   "id": "66182bbd-155f-40d8-9971-f54045592a83",
   "metadata": {},
   "outputs": [
    {
     "data": {
      "text/plain": [
       "'   yoghurt'"
      ]
     },
     "execution_count": 18,
     "metadata": {},
     "output_type": "execute_result"
    }
   ],
   "source": [
    "new_dish.rstrip()"
   ]
  },
  {
   "cell_type": "code",
   "execution_count": 19,
   "id": "c33ab4c4-3248-4bf1-abc9-d4b1ddeca164",
   "metadata": {},
   "outputs": [
    {
     "data": {
      "text/plain": [
       "'yoghurt   '"
      ]
     },
     "execution_count": 19,
     "metadata": {},
     "output_type": "execute_result"
    }
   ],
   "source": [
    "new_dish.lstrip()"
   ]
  },
  {
   "cell_type": "code",
   "execution_count": 20,
   "id": "0addf702-8df1-4de1-9fab-b1de56f2da80",
   "metadata": {},
   "outputs": [
    {
     "data": {
      "text/plain": [
       "'yoghurt'"
      ]
     },
     "execution_count": 20,
     "metadata": {},
     "output_type": "execute_result"
    }
   ],
   "source": [
    "new_dish.strip()"
   ]
  }
 ],
 "metadata": {
  "kernelspec": {
   "display_name": "Python 3 (ipykernel)",
   "language": "python",
   "name": "python3"
  },
  "language_info": {
   "codemirror_mode": {
    "name": "ipython",
    "version": 3
   },
   "file_extension": ".py",
   "mimetype": "text/x-python",
   "name": "python",
   "nbconvert_exporter": "python",
   "pygments_lexer": "ipython3",
   "version": "3.10.12"
  }
 },
 "nbformat": 4,
 "nbformat_minor": 5
}
