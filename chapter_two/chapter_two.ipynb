{
 "cells": [
  {
   "cell_type": "markdown",
   "id": "08197c98-38bb-4c36-9efd-bf1424c9f3d1",
   "metadata": {},
   "source": [
    "# Chapter Two - Variables & Data Types\n",
    "Variables are label to the address where data is stored"
   ]
  },
  {
   "cell_type": "code",
   "execution_count": 1,
   "id": "7f2ad745-cb59-4819-b46b-77ee50db4a9a",
   "metadata": {},
   "outputs": [
    {
     "name": "stdout",
     "output_type": "stream",
     "text": [
      "Hello World Py!\n"
     ]
    }
   ],
   "source": [
    "message = 'Hello World Py!'\n",
    "print(message)"
   ]
  },
  {
   "cell_type": "markdown",
   "id": "74952c07-65fc-42e8-b5ff-3514470873b7",
   "metadata": {},
   "source": [
    "### Rules for naming variable\n",
    "- Variable names can contain number, alphabets & underscore\n",
    "- Names can start with letters & underscore but not with numbers\n",
    "    - `1_score` ❗\n",
    "    - `score_1` ✅\n",
    "- Space in variable name is not allowed. Use underscore instead\n",
    "    - `first name` ❗\n",
    "    - `first_name` ✅\n",
    "- Keep names short but descriptive.\n",
    "- Carefull, while using between l & 1 and between O & 0\n",
    "- Use Capital letters only for constants"
   ]
  },
  {
   "cell_type": "markdown",
   "id": "ac8493a4-3aa0-40cb-ac75-db3b805edc6f",
   "metadata": {},
   "source": [
    "### Name Error\n",
    "Typos while using variable is common. It throw name error"
   ]
  },
  {
   "cell_type": "code",
   "execution_count": 2,
   "id": "05472de6-3a09-4986-874a-74f30b826245",
   "metadata": {},
   "outputs": [
    {
     "ename": "NameError",
     "evalue": "name 'mesage' is not defined",
     "output_type": "error",
     "traceback": [
      "\u001b[0;31m---------------------------------------------------------------------------\u001b[0m",
      "\u001b[0;31mNameError\u001b[0m                                 Traceback (most recent call last)",
      "Cell \u001b[0;32mIn[2], line 2\u001b[0m\n\u001b[1;32m      1\u001b[0m message \u001b[38;5;241m=\u001b[39m \u001b[38;5;124m'\u001b[39m\u001b[38;5;124mName Error Example\u001b[39m\u001b[38;5;124m'\u001b[39m\n\u001b[0;32m----> 2\u001b[0m \u001b[38;5;28mprint\u001b[39m(\u001b[43mmesage\u001b[49m)\n",
      "\u001b[0;31mNameError\u001b[0m: name 'mesage' is not defined"
     ]
    }
   ],
   "source": [
    "message = 'Name Error Example'\n",
    "print(mesage)"
   ]
  },
  {
   "cell_type": "markdown",
   "id": "a18799d4-ee6b-4f8e-b416-92605d42c47f",
   "metadata": {},
   "source": [
    "This is example of name error. This `NameError` tells that there is no variable named `mesage` which is actually miss`s` in name"
   ]
  },
  {
   "cell_type": "markdown",
   "id": "156935ba-93ab-4958-9986-8d9736b97106",
   "metadata": {},
   "source": [
    "### Variables are label\n",
    "Instead of thinking variables as a box which stores value. Think as if a value is given a label which is how python works"
   ]
  },
  {
   "cell_type": "markdown",
   "id": "bb7a633a-620b-472b-83b0-e3684be97973",
   "metadata": {},
   "source": [
    "#### Exercise 2.1\n",
    "**2-1. Simple Message :** Assign a message to a variable, and then print that message."
   ]
  },
  {
   "cell_type": "code",
   "execution_count": 3,
   "id": "f06ec03a-4e28-41a5-8d3c-dfc8717e2bc1",
   "metadata": {},
   "outputs": [
    {
     "name": "stdout",
     "output_type": "stream",
     "text": [
      "Hello, Jaimala\n"
     ]
    }
   ],
   "source": [
    "greeting = 'Hello, Jaimala'\n",
    "print(greeting)"
   ]
  },
  {
   "cell_type": "markdown",
   "id": "bf7394be-51af-4249-a3f0-917b6e73e233",
   "metadata": {},
   "source": [
    "#### Exercise 2.2\n",
    "**2-2. Simple Messages:** Assign a message to a variable, and print that message. Then change the value of the variable to a new message, and print the new message."
   ]
  },
  {
   "cell_type": "code",
   "execution_count": 4,
   "id": "062943a8-6041-4615-a98f-c5616e7c51f8",
   "metadata": {},
   "outputs": [
    {
     "name": "stdout",
     "output_type": "stream",
     "text": [
      "Hello, Agent1\n",
      "Hello, Agent2\n"
     ]
    }
   ],
   "source": [
    "greetings = 'Hello, Agent1'\n",
    "print(greetings)\n",
    "greetings = 'Hello, Agent2'\n",
    "print(greetings)"
   ]
  }
 ],
 "metadata": {
  "kernelspec": {
   "display_name": "Python 3 (ipykernel)",
   "language": "python",
   "name": "python3"
  },
  "language_info": {
   "codemirror_mode": {
    "name": "ipython",
    "version": 3
   },
   "file_extension": ".py",
   "mimetype": "text/x-python",
   "name": "python",
   "nbconvert_exporter": "python",
   "pygments_lexer": "ipython3",
   "version": "3.10.12"
  }
 },
 "nbformat": 4,
 "nbformat_minor": 5
}
