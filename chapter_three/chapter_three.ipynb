{
 "cells": [
  {
   "cell_type": "markdown",
   "id": "68b4618f-ac86-413d-aeda-d857e5781b5a",
   "metadata": {},
   "source": [
    "# Introducing List\n",
    "\n",
    "List is collection of items in particular order"
   ]
  },
  {
   "cell_type": "code",
   "execution_count": 1,
   "id": "39592726-c81e-4326-982f-fb58720a901c",
   "metadata": {},
   "outputs": [
    {
     "name": "stdout",
     "output_type": "stream",
     "text": [
      "['trek', 'cannandale', 'redline', 'specialized']\n"
     ]
    }
   ],
   "source": [
    "bicycles = ['trek', 'cannandale', 'redline', 'specialized']\n",
    "print(bicycles)"
   ]
  },
  {
   "cell_type": "markdown",
   "id": "5b814690-2f3d-4a16-97e4-193cb2ecb918",
   "metadata": {},
   "source": [
    "#### Accessing Elements in a List\n",
    "Lists are ordered collection, items in list can be accessed using their index number"
   ]
  },
  {
   "cell_type": "code",
   "execution_count": 2,
   "id": "d08f263a-25c4-47ea-8b3a-cd10b91364cf",
   "metadata": {},
   "outputs": [
    {
     "name": "stdout",
     "output_type": "stream",
     "text": [
      "trek\n"
     ]
    }
   ],
   "source": [
    "print(bicycles[0])"
   ]
  },
  {
   "cell_type": "code",
   "execution_count": 3,
   "id": "17a8dfab-303d-4ea4-8e6c-d1a4a39435c5",
   "metadata": {},
   "outputs": [
    {
     "name": "stdout",
     "output_type": "stream",
     "text": [
      "Trek\n"
     ]
    }
   ],
   "source": [
    "print(bicycles[0].title())"
   ]
  },
  {
   "cell_type": "markdown",
   "id": "37af5759-a262-49fd-8ac5-cfd87bdfd0a9",
   "metadata": {},
   "source": [
    "#### Index Positions Start at 0, Not 1\n",
    "Like most programming language, first item in list has index 0 instead of 1. If you want to access item at n number, use n-1 index"
   ]
  },
  {
   "cell_type": "code",
   "execution_count": 4,
   "id": "1212f665-e017-4038-a3d5-50d192afda0a",
   "metadata": {},
   "outputs": [
    {
     "name": "stdout",
     "output_type": "stream",
     "text": [
      "cannandale\n"
     ]
    }
   ],
   "source": [
    "# Item at 2 number is at index 1\n",
    "print(bicycles[1])"
   ]
  },
  {
   "cell_type": "markdown",
   "id": "b0f47d0b-20df-4cdb-a301-56e26aaa38b4",
   "metadata": {},
   "source": [
    "> **NOTE:** We can use negative integer to access items in list. Negative integer access item from the end. You can access last item without knowing index or length of list"
   ]
  },
  {
   "cell_type": "code",
   "execution_count": 5,
   "id": "4d1653e4-e49d-40d5-93bb-096a4e3a1a48",
   "metadata": {},
   "outputs": [
    {
     "name": "stdout",
     "output_type": "stream",
     "text": [
      "specialized\n"
     ]
    }
   ],
   "source": [
    "# Access last item of list\n",
    "print(bicycles[-1])"
   ]
  },
  {
   "cell_type": "code",
   "execution_count": 6,
   "id": "80b0485f-4295-47e7-a47c-a207e3214e98",
   "metadata": {},
   "outputs": [
    {
     "name": "stdout",
     "output_type": "stream",
     "text": [
      "redline\n"
     ]
    }
   ],
   "source": [
    "# Access second last item of list\n",
    "print(bicycles[-2])"
   ]
  },
  {
   "cell_type": "markdown",
   "id": "1d37168a-c098-40f3-a5bf-5b9f865c5b0a",
   "metadata": {},
   "source": [
    "#### Using items from a list\n",
    "We can use single item from list like anyother variable"
   ]
  },
  {
   "cell_type": "code",
   "execution_count": 7,
   "id": "a558eaa5-12b5-4699-b645-2f5c21cd95d1",
   "metadata": {},
   "outputs": [
    {
     "name": "stdout",
     "output_type": "stream",
     "text": [
      "My first bicycle was a Trek\n"
     ]
    }
   ],
   "source": [
    "message = f\"My first bicycle was a {bicycles[0].title()}\"\n",
    "print(message)"
   ]
  },
  {
   "cell_type": "markdown",
   "id": "20c22b95-e010-428d-bcd9-497ffbc06534",
   "metadata": {},
   "source": [
    "#### Exercise 3-1: Names\n",
    "Store the names of a few of your friends in a list called names. Print each person’s name by accessing each element in the list, one at a time"
   ]
  },
  {
   "cell_type": "code",
   "execution_count": 8,
   "id": "ed481f39-c1e2-44d8-828e-28e377723e0e",
   "metadata": {},
   "outputs": [
    {
     "name": "stdout",
     "output_type": "stream",
     "text": [
      "John\n",
      "Carmack\n"
     ]
    }
   ],
   "source": [
    "names = [\"john\", \"carmack\"]\n",
    "print(names[0].title())\n",
    "print(names[1].title())"
   ]
  },
  {
   "cell_type": "markdown",
   "id": "ef983f30-9cfd-418e-a00f-2793974f27cf",
   "metadata": {},
   "source": [
    "#### Exercise 3-2: Greetings\n",
    "The text of each message should be the same, but each message should be personalized with the person’s name."
   ]
  },
  {
   "cell_type": "code",
   "execution_count": 9,
   "id": "3c1cd854-d4de-47a3-84a3-6bdd277e7911",
   "metadata": {},
   "outputs": [
    {
     "name": "stdout",
     "output_type": "stream",
     "text": [
      "Hello, John\n",
      "Hello, Carmack\n"
     ]
    }
   ],
   "source": [
    "print(f\"Hello, {names[0].title()}\")\n",
    "print(f\"Hello, {names[1].title()}\")"
   ]
  },
  {
   "cell_type": "markdown",
   "id": "1a0b5175-f73b-4375-99c2-00490290da6f",
   "metadata": {},
   "source": [
    "#### Exercise 3-3: You Own List\n",
    "Think of your favorite mode of transportation, such as a motorcycle or a car, and make a list that stores several examples. Use your list to print a series of statements about these items, such as “I would like to own a Honda motorcycle.”"
   ]
  },
  {
   "cell_type": "code",
   "execution_count": 10,
   "id": "6f886ebc-0ddb-47fe-859c-723d0491c8d0",
   "metadata": {},
   "outputs": [
    {
     "name": "stdout",
     "output_type": "stream",
     "text": [
      "I would like to own a Honda motorcycle.\n",
      "I would like to own a Suzuki motorcycle.\n",
      "I would like to own a Hayabuza motorcycle.\n"
     ]
    }
   ],
   "source": [
    "motorcycles = [\"honda\", \"suzuki\", \"hayabuza\"]\n",
    "print(f\"I would like to own a {motorcycles[0].title()} motorcycle.\")\n",
    "print(f\"I would like to own a {motorcycles[1].title()} motorcycle.\")\n",
    "print(f\"I would like to own a {motorcycles[2].title()} motorcycle.\")"
   ]
  },
  {
   "cell_type": "markdown",
   "id": "49d28876-41f2-4a74-baab-dbef0f86b456",
   "metadata": {},
   "source": [
    "#### Modifying element in python"
   ]
  },
  {
   "cell_type": "code",
   "execution_count": 11,
   "id": "e02ad7cd-d9ee-4569-a1c0-bc43b7832663",
   "metadata": {},
   "outputs": [
    {
     "name": "stdout",
     "output_type": "stream",
     "text": [
      "honda\n"
     ]
    }
   ],
   "source": [
    "motorcycles = [\"honda\", \"suzuki\", \"hayabuza\"]\n",
    "print(motorcycles[0])"
   ]
  },
  {
   "cell_type": "code",
   "execution_count": 12,
   "id": "a6b60907-3314-4e20-bda3-f84b9dfed4e6",
   "metadata": {},
   "outputs": [
    {
     "name": "stdout",
     "output_type": "stream",
     "text": [
      "ducati\n"
     ]
    }
   ],
   "source": [
    "# Changing 1st elemnt to ducati\n",
    "motorcycles[0] = \"ducati\"\n",
    "print(motorcycles[0])"
   ]
  },
  {
   "cell_type": "markdown",
   "id": "0000df56-7cf3-4eb0-b676-2595f31a0ead",
   "metadata": {},
   "source": [
    "#### Appending new item in the list"
   ]
  },
  {
   "cell_type": "markdown",
   "id": "83feca65-a16e-4366-aa46-e911a75d09cf",
   "metadata": {},
   "source": [
    "**At the end of list**\n",
    "\n",
    "`list.append(\"item\")` is used to add item at the end of list"
   ]
  },
  {
   "cell_type": "code",
   "execution_count": 13,
   "id": "4811151b-ea1f-472f-830d-f2486f6dfcf4",
   "metadata": {},
   "outputs": [
    {
     "name": "stdout",
     "output_type": "stream",
     "text": [
      "['honda', 'suzuki', 'hayabuza']\n",
      "['honda', 'suzuki', 'hayabuza', 'honda']\n"
     ]
    }
   ],
   "source": [
    "motorcycles = [\"honda\", \"suzuki\", \"hayabuza\"]\n",
    "print(motorcycles)\n",
    "motorcycles.append(\"honda\")\n",
    "print(motorcycles)"
   ]
  },
  {
   "cell_type": "markdown",
   "id": "578e9c85-aed4-4f95-a6ea-363ecf0aa74c",
   "metadata": {},
   "source": [
    "`list.append(\"item\")` can also be used to form a new list from empty list"
   ]
  },
  {
   "cell_type": "code",
   "execution_count": 14,
   "id": "df78dab1-510b-4213-9d0b-37e64bce9651",
   "metadata": {},
   "outputs": [
    {
     "name": "stdout",
     "output_type": "stream",
     "text": [
      "Enter a item to add to list\n"
     ]
    },
    {
     "name": "stdin",
     "output_type": "stream",
     "text": [
      " mountains\n"
     ]
    },
    {
     "name": "stdout",
     "output_type": "stream",
     "text": [
      "Enter another item to add to list\n"
     ]
    },
    {
     "name": "stdin",
     "output_type": "stream",
     "text": [
      " rivers\n"
     ]
    },
    {
     "name": "stdout",
     "output_type": "stream",
     "text": [
      "['mountains', 'rivers']\n"
     ]
    }
   ],
   "source": [
    "items = [] # declaring an empty list\n",
    "print(\"Enter a item to add to list\")\n",
    "items.append(input())\n",
    "print(\"Enter another item to add to list\")\n",
    "items.append(input())\n",
    "print(items)"
   ]
  },
  {
   "cell_type": "markdown",
   "id": "932bd1e0-4516-4753-a3b0-d5b5025a31bc",
   "metadata": {},
   "source": [
    "**Inserting item a particular index in list**\n",
    "Insert an item at a given position. The first argument is the index of the element before which to insert, so `list.insert(0, x)` inserts at the front of the list, and `list.insert(len(a), x)` is equivalent to `list.append(x)`."
   ]
  },
  {
   "cell_type": "code",
   "execution_count": 15,
   "id": "82d14104-1c91-4203-9da9-f70c3f2fab77",
   "metadata": {},
   "outputs": [
    {
     "name": "stdout",
     "output_type": "stream",
     "text": [
      "['honda', 'suzuki', 'hayabuza']\n",
      "['honda', 'suzuki', 'ktm', 'hayabuza']\n"
     ]
    }
   ],
   "source": [
    "motorcycles = [\"honda\", \"suzuki\", \"hayabuza\"]\n",
    "print(motorcycles)\n",
    "motorcycles.insert(2, 'ktm')\n",
    "print(motorcycles)"
   ]
  },
  {
   "cell_type": "markdown",
   "id": "cdc07fa8-4c36-45ed-b97e-0807214e012d",
   "metadata": {},
   "source": [
    "#### Deleting item from list"
   ]
  },
  {
   "cell_type": "markdown",
   "id": "3ab84f50-d6a7-4c4b-8222-ae609d9004c2",
   "metadata": {},
   "source": [
    "**Delete item using index**\n",
    "Use `del(list[index])` to delete item at particular position in list"
   ]
  },
  {
   "cell_type": "code",
   "execution_count": 18,
   "id": "84df5ae8-8f13-4fe6-93c5-a45c0d371244",
   "metadata": {},
   "outputs": [
    {
     "name": "stdout",
     "output_type": "stream",
     "text": [
      "['honda', 'suzuki', 'hayabuza']\n",
      "['honda', 'hayabuza']\n"
     ]
    }
   ],
   "source": [
    "motorcycles = [\"honda\", \"suzuki\", \"hayabuza\"]\n",
    "print(motorcycles)\n",
    "del(motorcycles[1])\n",
    "print(motorcycles)"
   ]
  },
  {
   "cell_type": "code",
   "execution_count": null,
   "id": "b6582b84-cb7c-440f-afa7-322680063a7f",
   "metadata": {},
   "outputs": [],
   "source": []
  }
 ],
 "metadata": {
  "kernelspec": {
   "display_name": "Python 3 (ipykernel)",
   "language": "python",
   "name": "python3"
  },
  "language_info": {
   "codemirror_mode": {
    "name": "ipython",
    "version": 3
   },
   "file_extension": ".py",
   "mimetype": "text/x-python",
   "name": "python",
   "nbconvert_exporter": "python",
   "pygments_lexer": "ipython3",
   "version": "3.10.12"
  }
 },
 "nbformat": 4,
 "nbformat_minor": 5
}
