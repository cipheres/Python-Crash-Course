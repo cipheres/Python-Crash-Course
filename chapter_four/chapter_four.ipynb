{
 "cells": [
  {
   "cell_type": "markdown",
   "id": "c794c199-6fd6-45ac-8bdb-583239ff126b",
   "metadata": {},
   "source": [
    "# Chapter 4: Working with Lists"
   ]
  },
  {
   "cell_type": "markdown",
   "id": "042647e0-6aca-47c6-a3b0-619b74b96ff2",
   "metadata": {},
   "source": [
    "Using `for` loop for going through the list"
   ]
  },
  {
   "cell_type": "code",
   "execution_count": 1,
   "id": "72b128f7-c6fb-443f-821a-463fed2d27e8",
   "metadata": {},
   "outputs": [
    {
     "name": "stdout",
     "output_type": "stream",
     "text": [
      "alice\n",
      "david\n",
      "carolina\n"
     ]
    }
   ],
   "source": [
    "magicians = ['alice', 'david', 'carolina']\n",
    "for magician in magicians:\n",
    "    print(magician)"
   ]
  },
  {
   "cell_type": "code",
   "execution_count": 3,
   "id": "fa6640dc-9c15-4b98-a77d-f577d194552b",
   "metadata": {},
   "outputs": [
    {
     "name": "stdout",
     "output_type": "stream",
     "text": [
      "Alice, that was a great trick\n",
      "David, that was a great trick\n",
      "Carolina, that was a great trick\n",
      "\n",
      "Thank You for perfoming the show\n"
     ]
    }
   ],
   "source": [
    "magicians = ['alice', 'david', 'carolina']\n",
    "for magician in magicians:\n",
    "    print(f\"{magician.title()}, that was a great trick\")\n",
    "\n",
    "print(f\"\\nThank You for perfoming the show\")"
   ]
  },
  {
   "cell_type": "markdown",
   "id": "2654bcd5-4277-4311-9c66-21114c09a8a5",
   "metadata": {},
   "source": [
    "> Indentation decides if something is part of loop or not. No using Indentation properly could cause syntax or logical error\n",
    ">\n",
    "> Colon at the end of `for` statement is important"
   ]
  },
  {
   "cell_type": "markdown",
   "id": "ed82062b-5a52-48a9-93ec-66c11613bfe1",
   "metadata": {},
   "source": [
    "#### 4-1. Pizzas: \n",
    "Think of at least three kinds of your favorite pizza. Store these pizza names in a list, and then use a for loop to print the name of each pizza.\n",
    "- Modify your for loop to print a sentence using the name of the pizzainstead of printing just the name of the pizza. For each pizza you should have one line of output containing a simple statement like I like pepperoni pizza.\n",
    "- Add a line at the end of your program, outside the for loop, that states how much you like pizza. The output should consist of three or more lines about the kinds of pizza you like and then an additional sentence, such as *I really love pizza!*"
   ]
  },
  {
   "cell_type": "code",
   "execution_count": 5,
   "id": "24a662f8-fddf-417f-a1f1-178ce1855979",
   "metadata": {},
   "outputs": [
    {
     "name": "stdout",
     "output_type": "stream",
     "text": [
      "cheese\n",
      "veggie\n",
      "pepperoni\n",
      "Cheese is yummy!\n",
      "Veggie is yummy!\n",
      "Pepperoni is yummy!\n",
      "Pizzas are tasty!!\n"
     ]
    }
   ],
   "source": [
    "pizzas = ['cheese', 'veggie', 'pepperoni']\n",
    "for pizza in pizzas:\n",
    "    print(pizza)\n",
    "\n",
    "for pizza in pizzas:\n",
    "    print(f\"{pizza.title()} is yummy!\")\n",
    "\n",
    "print(\"Pizzas are tasty!!\")"
   ]
  },
  {
   "cell_type": "markdown",
   "id": "24419bc8-e4a3-4ab3-8f67-999a520e98a9",
   "metadata": {},
   "source": [
    "#### 4-2. Animals:\n",
    "Think of at least three different animals that have a common characteristic. Store the names of these animals in a list, and then use a for loop to print out the name of each animal.\n",
    "- Modify your program to print a statement about each animal, such as a dog would make a great pet.\n",
    "- Add a line at the end of your program stating what these animals have in common. You could print a sentence such as *Any of these animals would make a great pet!*"
   ]
  },
  {
   "cell_type": "code",
   "execution_count": 7,
   "id": "67f6ff59-2bc9-466b-ba9f-ca504d6a59e3",
   "metadata": {},
   "outputs": [
    {
     "name": "stdout",
     "output_type": "stream",
     "text": [
      "Dog is a amazing animal!\n",
      "Parrot is a amazing animal!\n",
      "Cow is a amazing animal!\n",
      "They are great pets\n"
     ]
    }
   ],
   "source": [
    "animals = ['dog', 'parrot', 'cow']\n",
    "for animal in animals:\n",
    "    print(f'{animal.title()} is a amazing animal!')\n",
    "\n",
    "print(f'They are great pets')"
   ]
  },
  {
   "cell_type": "code",
   "execution_count": null,
   "id": "d0682a2c-676b-443b-85d0-9a739511a8ad",
   "metadata": {},
   "outputs": [],
   "source": []
  }
 ],
 "metadata": {
  "kernelspec": {
   "display_name": "Python 3 (ipykernel)",
   "language": "python",
   "name": "python3"
  },
  "language_info": {
   "codemirror_mode": {
    "name": "ipython",
    "version": 3
   },
   "file_extension": ".py",
   "mimetype": "text/x-python",
   "name": "python",
   "nbconvert_exporter": "python",
   "pygments_lexer": "ipython3",
   "version": "3.10.12"
  }
 },
 "nbformat": 4,
 "nbformat_minor": 5
}
