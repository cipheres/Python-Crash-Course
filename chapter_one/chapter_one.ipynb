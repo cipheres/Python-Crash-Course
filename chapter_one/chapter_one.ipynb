{
 "cells": [
  {
   "cell_type": "markdown",
   "id": "b19c4586-e31c-47fb-a636-d7b36c60934c",
   "metadata": {
    "editable": true,
    "slideshow": {
     "slide_type": ""
    },
    "tags": []
   },
   "source": [
    "# Chapter One - Getting Started\n",
    "- Install python\n",
    "- Add python to path"
   ]
  },
  {
   "cell_type": "code",
   "execution_count": 1,
   "id": "46e7dd34-4043-4ff6-ab97-22cba7f7f261",
   "metadata": {},
   "outputs": [
    {
     "name": "stdout",
     "output_type": "stream",
     "text": [
      "Hello Python interpreter!\n"
     ]
    }
   ],
   "source": [
    "print(\"Hello Python interpreter!\")"
   ]
  }
 ],
 "metadata": {
  "kernelspec": {
   "display_name": "Python 3 (ipykernel)",
   "language": "python",
   "name": "python3"
  },
  "language_info": {
   "codemirror_mode": {
    "name": "ipython",
    "version": 3
   },
   "file_extension": ".py",
   "mimetype": "text/x-python",
   "name": "python",
   "nbconvert_exporter": "python",
   "pygments_lexer": "ipython3",
   "version": "3.10.12"
  }
 },
 "nbformat": 4,
 "nbformat_minor": 5
}
