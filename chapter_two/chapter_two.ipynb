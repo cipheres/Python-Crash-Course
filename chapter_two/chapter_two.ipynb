{
 "cells": [
  {
   "cell_type": "markdown",
   "id": "08197c98-38bb-4c36-9efd-bf1424c9f3d1",
   "metadata": {},
   "source": [
    "# Chapter Two - Variables & Data Types\n",
    "Variables are label to the address where data is stored"
   ]
  },
  {
   "cell_type": "code",
   "execution_count": 1,
   "id": "7f2ad745-cb59-4819-b46b-77ee50db4a9a",
   "metadata": {},
   "outputs": [
    {
     "name": "stdout",
     "output_type": "stream",
     "text": [
      "Hello World Py!\n"
     ]
    }
   ],
   "source": [
    "message = 'Hello World Py!'\n",
    "print(message)"
   ]
  },
  {
   "cell_type": "markdown",
   "id": "74952c07-65fc-42e8-b5ff-3514470873b7",
   "metadata": {},
   "source": [
    "### Rules for naming variable\n",
    "- Variable names can contain number, alphabets & underscore\n",
    "- Names can start with letters & underscore but not with numbers\n",
    "    - `1_score` ❗\n",
    "    - `score_1` ✅\n",
    "- Space in variable name is not allowed. Use underscore instead\n",
    "    - `first name` ❗\n",
    "    - `first_name` ✅\n",
    "- Keep names short but descriptive.\n",
    "- Carefull, while using between l & 1 and between O & 0\n",
    "- Use Capital letters only for constants"
   ]
  },
  {
   "cell_type": "markdown",
   "id": "ac8493a4-3aa0-40cb-ac75-db3b805edc6f",
   "metadata": {},
   "source": [
    "### Name Error\n",
    "Typos while using variable is common. It throw name error"
   ]
  },
  {
   "cell_type": "code",
   "execution_count": 2,
   "id": "05472de6-3a09-4986-874a-74f30b826245",
   "metadata": {},
   "outputs": [
    {
     "ename": "NameError",
     "evalue": "name 'mesage' is not defined",
     "output_type": "error",
     "traceback": [
      "\u001b[0;31m---------------------------------------------------------------------------\u001b[0m",
      "\u001b[0;31mNameError\u001b[0m                                 Traceback (most recent call last)",
      "Cell \u001b[0;32mIn[2], line 2\u001b[0m\n\u001b[1;32m      1\u001b[0m message \u001b[38;5;241m=\u001b[39m \u001b[38;5;124m'\u001b[39m\u001b[38;5;124mName Error Example\u001b[39m\u001b[38;5;124m'\u001b[39m\n\u001b[0;32m----> 2\u001b[0m \u001b[38;5;28mprint\u001b[39m(\u001b[43mmesage\u001b[49m)\n",
      "\u001b[0;31mNameError\u001b[0m: name 'mesage' is not defined"
     ]
    }
   ],
   "source": [
    "message = 'Name Error Example'\n",
    "print(mesage)"
   ]
  },
  {
   "cell_type": "markdown",
   "id": "a18799d4-ee6b-4f8e-b416-92605d42c47f",
   "metadata": {},
   "source": [
    "This is example of name error. This `NameError` tells that there is no variable named `mesage` which is actually miss`s` in name"
   ]
  },
  {
   "cell_type": "markdown",
   "id": "156935ba-93ab-4958-9986-8d9736b97106",
   "metadata": {},
   "source": [
    "### Variables are label\n",
    "Instead of thinking variables as a box which stores value. Think as if a value is given a label which is how python works"
   ]
  },
  {
   "cell_type": "markdown",
   "id": "bb7a633a-620b-472b-83b0-e3684be97973",
   "metadata": {},
   "source": [
    "#### Exercise 2.1\n",
    "**2-1. Simple Message :** Assign a message to a variable, and then print that message."
   ]
  },
  {
   "cell_type": "code",
   "execution_count": 3,
   "id": "f06ec03a-4e28-41a5-8d3c-dfc8717e2bc1",
   "metadata": {},
   "outputs": [
    {
     "name": "stdout",
     "output_type": "stream",
     "text": [
      "Hello, Jaimala\n"
     ]
    }
   ],
   "source": [
    "greeting = 'Hello, Jaimala'\n",
    "print(greeting)"
   ]
  },
  {
   "cell_type": "markdown",
   "id": "bf7394be-51af-4249-a3f0-917b6e73e233",
   "metadata": {},
   "source": [
    "#### Exercise 2.2\n",
    "**2-2. Simple Messages:** Assign a message to a variable, and print that message. Then change the value of the variable to a new message, and print the new message."
   ]
  },
  {
   "cell_type": "code",
   "execution_count": 4,
   "id": "062943a8-6041-4615-a98f-c5616e7c51f8",
   "metadata": {},
   "outputs": [
    {
     "name": "stdout",
     "output_type": "stream",
     "text": [
      "Hello, Agent1\n",
      "Hello, Agent2\n"
     ]
    }
   ],
   "source": [
    "greetings = 'Hello, Agent1'\n",
    "print(greetings)\n",
    "greetings = 'Hello, Agent2'\n",
    "print(greetings)"
   ]
  },
  {
   "cell_type": "markdown",
   "id": "e584174c-96db-41cd-bff7-b5fa1a4fc92f",
   "metadata": {},
   "source": [
    "### Strings\n",
    "There are two methods to store strings using quotes or apostrophes. In python strings a immutable, meaning if once a string object is created it can't be updated but a new string object with changes can be created and reassigned to the same variable\n",
    "```python\n",
    "message_one = \"String using quotes\"\n",
    "message_two = 'String using apostrophes'\n",
    "message_three = \"There's ways to use both in string\"\n",
    "```"
   ]
  },
  {
   "cell_type": "code",
   "execution_count": 1,
   "id": "99b0534d-9eca-4384-9875-32ba2f1c98f8",
   "metadata": {},
   "outputs": [
    {
     "name": "stdout",
     "output_type": "stream",
     "text": [
      "String using quotes\n",
      "String using apostrophes\n",
      "There's ways to use both in string\n"
     ]
    }
   ],
   "source": [
    "message_one = \"String using quotes\"\n",
    "message_two = 'String using apostrophes'\n",
    "message_three = \"There's ways to use both in string\"\n",
    "print(message_one)\n",
    "print(message_two)\n",
    "print(message_three)"
   ]
  },
  {
   "cell_type": "code",
   "execution_count": 2,
   "id": "ad4b1085-1dc7-4ba8-898b-b6865f53716c",
   "metadata": {},
   "outputs": [
    {
     "name": "stdout",
     "output_type": "stream",
     "text": [
      "Ada Lovelance\n"
     ]
    }
   ],
   "source": [
    "name = 'ada lovelance'\n",
    "print(name.title())"
   ]
  },
  {
   "cell_type": "markdown",
   "id": "4535d3ea-adde-4ebb-9f36-0ee58e504564",
   "metadata": {},
   "source": [
    "In this example, the variable `name` refers to the lowercase string \"ada lovelace\". The method `title()` appears after the variable in the `print()` call. A method is an action that Python can perform on a piece of data. The dot (.) after `name` in `name.title()` tells Python to make the `title()` method act on the variable `name`. Every method is followed by a set of parentheses, because methods often need additional information to do their work. That information is provided inside the parentheses. The `title()` function doesn’t need any additional information, so its parentheses are empty.\n",
    "\n",
    "The `title()` method changes each word to title case, where each word begins with a capital letter. This is useful because you’ll often want to think of a name as a piece of information. For example, you might want your program to recognize the input values `Ada`, `ADA`, and `ada` as the same name, and display all of them as `Ada`."
   ]
  },
  {
   "cell_type": "code",
   "execution_count": 3,
   "id": "1a302342-cf70-463b-897b-32ccdd80f5d9",
   "metadata": {},
   "outputs": [
    {
     "name": "stdout",
     "output_type": "stream",
     "text": [
      "ADA LOVELACE\n",
      "ada lovelace\n"
     ]
    }
   ],
   "source": [
    "name = 'Ada Lovelace'\n",
    "print(name.upper())\n",
    "print(name.lower())"
   ]
  },
  {
   "cell_type": "markdown",
   "id": "8a36ea03-70fc-4e05-a054-e56f7124e28d",
   "metadata": {},
   "source": [
    "### Format Strings\n",
    "Python allows to use variables while composing a string"
   ]
  },
  {
   "cell_type": "code",
   "execution_count": 5,
   "id": "a4b5c11c-4865-466f-88ff-d35ef385cda9",
   "metadata": {},
   "outputs": [
    {
     "name": "stdout",
     "output_type": "stream",
     "text": [
      "Ada Lovelace\n"
     ]
    }
   ],
   "source": [
    "first_name = 'ada'\n",
    "last_name = 'lovelace'\n",
    "full_name = f'{first_name} {last_name}'\n",
    "print(full_name.title())"
   ]
  },
  {
   "cell_type": "markdown",
   "id": "d39e00da-977d-4904-b279-dc4bf7cb28dc",
   "metadata": {},
   "source": [
    "To use format string string needs to start with `f` followed by regular string containing variable wrapped in curly braces"
   ]
  },
  {
   "cell_type": "code",
   "execution_count": 7,
   "id": "bfa160cf-08f3-435c-85d5-0f8cb71dd060",
   "metadata": {},
   "outputs": [
    {
     "name": "stdout",
     "output_type": "stream",
     "text": [
      "Hello, Charles Babage!\n"
     ]
    }
   ],
   "source": [
    "first_name = 'charles'\n",
    "last_name = 'babage'\n",
    "full_name = f'{first_name} {last_name}'\n",
    "message = f'Hello, {full_name.title()}!'\n",
    "print(message)"
   ]
  },
  {
   "cell_type": "markdown",
   "id": "e4d912bd-bafd-4c75-9394-5b2403f0a664",
   "metadata": {},
   "source": [
    "### Whitespaces in python strings\n",
    "Whitespaces means tabs, spaces, newline etc.\n",
    "These can be added using various charaters like `\\t` or `\\n` etc"
   ]
  },
  {
   "cell_type": "code",
   "execution_count": 9,
   "id": "1e1846f6-8600-44b9-a4e8-dd95246ae32b",
   "metadata": {},
   "outputs": [
    {
     "name": "stdout",
     "output_type": "stream",
     "text": [
      "Language: Python C Javascript\n",
      "Languages:\n",
      "\tPython\n",
      "\tC\n",
      "\tJavascript\n"
     ]
    }
   ],
   "source": [
    "# Without Whitespaces\n",
    "no_whitespace = \"Language: Python C Javascript\"\n",
    "print(no_whitespace)\n",
    "\n",
    "# With Whitespcae\n",
    "with_whitespace = \"Languages:\\n\\tPython\\n\\tC\\n\\tJavascript\"\n",
    "print(with_whitespace)"
   ]
  },
  {
   "cell_type": "markdown",
   "id": "4792b932-53f3-4b57-957c-a15324adcd8b",
   "metadata": {},
   "source": [
    "### Stripping Whitespaces\n",
    "`'python'` and `'python '` are not equal in python programs. This could cause issues when comparing strings. In python we can strip whitespaces using function like `rstrip()`, `lstrip()` or `strip()`"
   ]
  },
  {
   "cell_type": "code",
   "execution_count": 14,
   "id": "dee45c6e-2182-43e7-b33f-d94c45668a6e",
   "metadata": {},
   "outputs": [],
   "source": [
    "fav_dish = 'pasta '"
   ]
  },
  {
   "cell_type": "code",
   "execution_count": 15,
   "id": "f5d06e66-ec09-428d-b5f5-8b4724a87a31",
   "metadata": {},
   "outputs": [
    {
     "data": {
      "text/plain": [
       "'pasta '"
      ]
     },
     "execution_count": 15,
     "metadata": {},
     "output_type": "execute_result"
    }
   ],
   "source": [
    "fav_dish"
   ]
  },
  {
   "cell_type": "markdown",
   "id": "51cb967b-56bf-470e-b279-8110d6f39ad7",
   "metadata": {},
   "source": [
    "String contains spaces at the end"
   ]
  },
  {
   "cell_type": "code",
   "execution_count": 16,
   "id": "f3ae3571-851f-4078-b55e-fa356f0907a2",
   "metadata": {},
   "outputs": [
    {
     "data": {
      "text/plain": [
       "'pasta'"
      ]
     },
     "execution_count": 16,
     "metadata": {},
     "output_type": "execute_result"
    }
   ],
   "source": [
    "fav_dish.rstrip()"
   ]
  },
  {
   "cell_type": "markdown",
   "id": "ca414f36-d27e-4447-9ded-1ac67284e38c",
   "metadata": {},
   "source": [
    "Space is removed from the end of string"
   ]
  },
  {
   "cell_type": "markdown",
   "id": "17bfd1eb-4663-45a5-b48c-2f0f133d1810",
   "metadata": {},
   "source": [
    "- `lstrip()` : removes whitespace only on left side of string\n",
    "- `rstrip()` : removes whitespace only on right side of string\n",
    "- `strip()`  : removes whitespace on both sides of string"
   ]
  },
  {
   "cell_type": "code",
   "execution_count": 17,
   "id": "8b39a590-3846-4f32-a6e1-3733523c9676",
   "metadata": {},
   "outputs": [],
   "source": [
    "new_dish = \"   yoghurt   \""
   ]
  },
  {
   "cell_type": "code",
   "execution_count": 18,
   "id": "66182bbd-155f-40d8-9971-f54045592a83",
   "metadata": {},
   "outputs": [
    {
     "data": {
      "text/plain": [
       "'   yoghurt'"
      ]
     },
     "execution_count": 18,
     "metadata": {},
     "output_type": "execute_result"
    }
   ],
   "source": [
    "new_dish.rstrip()"
   ]
  },
  {
   "cell_type": "code",
   "execution_count": 19,
   "id": "c33ab4c4-3248-4bf1-abc9-d4b1ddeca164",
   "metadata": {},
   "outputs": [
    {
     "data": {
      "text/plain": [
       "'yoghurt   '"
      ]
     },
     "execution_count": 19,
     "metadata": {},
     "output_type": "execute_result"
    }
   ],
   "source": [
    "new_dish.lstrip()"
   ]
  },
  {
   "cell_type": "code",
   "execution_count": 20,
   "id": "0addf702-8df1-4de1-9fab-b1de56f2da80",
   "metadata": {},
   "outputs": [
    {
     "data": {
      "text/plain": [
       "'yoghurt'"
      ]
     },
     "execution_count": 20,
     "metadata": {},
     "output_type": "execute_result"
    }
   ],
   "source": [
    "new_dish.strip()"
   ]
  },
  {
   "cell_type": "markdown",
   "id": "5fce2ab4-0779-460a-b41f-114eacf75564",
   "metadata": {},
   "source": [
    "#### Exercise 2-3\n",
    "2-3. Personal Message: Use a variable to represent a person’s name, and print a message to that person. Your message should be simple, such as, “Hello Eric, would you like to learn some Python today?”"
   ]
  },
  {
   "cell_type": "code",
   "execution_count": 2,
   "id": "837a95f3-d44b-4dc0-8608-98a4dee0534b",
   "metadata": {},
   "outputs": [
    {
     "name": "stdout",
     "output_type": "stream",
     "text": [
      "Hello Jonas, would you like to learn some Python today?\n"
     ]
    }
   ],
   "source": [
    "name = \"Jonas\"\n",
    "message = f\"Hello {name}, would you like to learn some Python today?\"\n",
    "print(message)"
   ]
  },
  {
   "cell_type": "markdown",
   "id": "61866dd5-7735-4702-9342-8bdc0097aef9",
   "metadata": {},
   "source": [
    "#### Exercise 2-4\n",
    "Use a variable to represent a person’s name, and then print that person’s name in lowercase, uppercase, and title case."
   ]
  },
  {
   "cell_type": "code",
   "execution_count": 4,
   "id": "7407e4d1-6db2-4744-923e-a25dff4d8df8",
   "metadata": {},
   "outputs": [
    {
     "name": "stdout",
     "output_type": "stream",
     "text": [
      "jerry seinfeld\n",
      "JERRY SEINFELD\n",
      "Jerry Seinfeld\n"
     ]
    }
   ],
   "source": [
    "name = \"jeRRy sEinfeld\"\n",
    "print(name.lower())\n",
    "print(name.upper())\n",
    "print(name.title())"
   ]
  },
  {
   "cell_type": "markdown",
   "id": "8708ef58-c5de-4406-b7e3-544ed14e72e3",
   "metadata": {},
   "source": [
    "#### Exercise 2-5 & 2-6: Famouse Quote\n",
    "Find a quote from a famous person you admire. Print the quote and the name of its author. Your output should look something like the following, including the quotation marks:\n",
    "```\n",
    "Albert Einstein once said, “A person who never made a\n",
    "mistake never tried anything new.”\n",
    "```"
   ]
  },
  {
   "cell_type": "code",
   "execution_count": 8,
   "id": "c9133da0-feb6-4050-b7f6-c8eeda859305",
   "metadata": {},
   "outputs": [
    {
     "name": "stdout",
     "output_type": "stream",
     "text": [
      "\tAlbert Einstein once said, \"A person who never made a\n",
      "\tmistake never tried anything new\"\n"
     ]
    }
   ],
   "source": [
    "famous_person = \"albert einstein\"\n",
    "message = f'\\t{famous_person.title()} once said, \"A person who never made a\\n\\tmistake never tried anything new\"'\n",
    "print(message)"
   ]
  },
  {
   "cell_type": "markdown",
   "id": "31aa1a0c-38ca-4fb3-b121-51e3a1bd5b8f",
   "metadata": {},
   "source": [
    "#### Exercise 2-7: Stripping Names: \n",
    "Use a variable to represent a person’s name, and include some whitespace characters at the beginning and end of the name. Make sure you use each character combination, \"\\t\" and \"\\n\", at least once. Print the name once, so the whitespace around the name is displayed. Then print the name using each of the three stripping functions, `lstrip()`, `rstrip()`, and `strip()`"
   ]
  },
  {
   "cell_type": "code",
   "execution_count": 13,
   "id": "c2595a4b-43d5-4f21-96e3-101c61e34533",
   "metadata": {},
   "outputs": [
    {
     "data": {
      "text/plain": [
       "'\\n   \\t\\tNick Lodean\\t  '"
      ]
     },
     "execution_count": 13,
     "metadata": {},
     "output_type": "execute_result"
    }
   ],
   "source": [
    "name_with_whitespaces = '\\n   \\t\\tNick Lodean\\t  '\n",
    "name_with_whitespaces"
   ]
  },
  {
   "cell_type": "code",
   "execution_count": 18,
   "id": "9caf5afd-68cd-45b7-ab03-c409971fe96b",
   "metadata": {},
   "outputs": [
    {
     "data": {
      "text/plain": [
       "'Nick Lodean\\t  '"
      ]
     },
     "execution_count": 18,
     "metadata": {},
     "output_type": "execute_result"
    }
   ],
   "source": [
    "name_with_whitespaces.lstrip()"
   ]
  },
  {
   "cell_type": "code",
   "execution_count": 19,
   "id": "56d417c6-980e-475a-bc61-b92057c30db7",
   "metadata": {},
   "outputs": [
    {
     "data": {
      "text/plain": [
       "'\\n   \\t\\tNick Lodean'"
      ]
     },
     "execution_count": 19,
     "metadata": {},
     "output_type": "execute_result"
    }
   ],
   "source": [
    "name_with_whitespaces.rstrip()"
   ]
  },
  {
   "cell_type": "code",
   "execution_count": 20,
   "id": "e0ccc34f-f799-479a-b779-85abadd94ecb",
   "metadata": {},
   "outputs": [
    {
     "data": {
      "text/plain": [
       "'Nick Lodean'"
      ]
     },
     "execution_count": 20,
     "metadata": {},
     "output_type": "execute_result"
    }
   ],
   "source": [
    "name_with_whitespaces.strip()"
   ]
  },
  {
   "cell_type": "markdown",
   "id": "75a6baea-885a-4cfc-b32c-d905832e06da",
   "metadata": {},
   "source": [
    "### Integers\n",
    "- Can be (+), (-), (*) and (/)\n",
    "- Order of operation is preserved"
   ]
  },
  {
   "cell_type": "code",
   "execution_count": 23,
   "id": "0a04075f-a2cc-4cf6-a9be-2311c031ca3a",
   "metadata": {},
   "outputs": [
    {
     "name": "stdout",
     "output_type": "stream",
     "text": [
      "5\n",
      "319\n",
      "736\n",
      "583.0\n",
      "12167\n",
      "12.0\n"
     ]
    }
   ],
   "source": [
    "print(2+3)\n",
    "print(342-23)\n",
    "print(23*32)\n",
    "print(2332/4)\n",
    "print(23**3)\n",
    "print(2 + 5 * (8/4))"
   ]
  },
  {
   "cell_type": "markdown",
   "id": "52fcfc06-5d05-48e6-832e-7986e62c99a6",
   "metadata": {},
   "source": [
    "### Floats\n",
    "Python calls any number with a decimal point a float. This term is used in most programming languages, and it refers to the fact that a decimal point can appear at any position in a number. "
   ]
  },
  {
   "cell_type": "code",
   "execution_count": 3,
   "id": "5c217b99-d434-4281-87cd-9e71c6bb2630",
   "metadata": {},
   "outputs": [
    {
     "data": {
      "text/plain": [
       "0.2"
      ]
     },
     "execution_count": 3,
     "metadata": {},
     "output_type": "execute_result"
    }
   ],
   "source": [
    "0.1 + 0.1"
   ]
  },
  {
   "cell_type": "markdown",
   "id": "c1ffa603-36e7-446d-a325-fb0fa23be35c",
   "metadata": {},
   "source": [
    "For most part operations work properly in floats. But be aware that you can sometimes get an arbitrary number of decimal places in your answer:"
   ]
  },
  {
   "cell_type": "code",
   "execution_count": 2,
   "id": "cdca8d20-ef45-43bc-b06e-9cd2da1fd869",
   "metadata": {},
   "outputs": [
    {
     "data": {
      "text/plain": [
       "0.30000000000000004"
      ]
     },
     "execution_count": 2,
     "metadata": {},
     "output_type": "execute_result"
    }
   ],
   "source": [
    "0.2 + 0.1"
   ]
  },
  {
   "cell_type": "markdown",
   "id": "8d7c6333-c260-4067-a2ed-540b37a5d9c2",
   "metadata": {},
   "source": [
    "### Integer with floats\n",
    "When you divide any two numbers, even if they are integers that result in a whole number, you’ll always get a float"
   ]
  },
  {
   "cell_type": "code",
   "execution_count": 4,
   "id": "0750d501-46be-4478-8f0a-09ba2df10c0f",
   "metadata": {},
   "outputs": [
    {
     "data": {
      "text/plain": [
       "2.0"
      ]
     },
     "execution_count": 4,
     "metadata": {},
     "output_type": "execute_result"
    }
   ],
   "source": [
    "4/2"
   ]
  },
  {
   "cell_type": "markdown",
   "id": "ab917eb3-262b-4c06-ae7c-313ed093478b",
   "metadata": {},
   "source": [
    "If you mix an integer and a float in any other operation, you’ll get a float as well. Python defaults to a float in any operation that uses a float, even if the output is a whole number."
   ]
  },
  {
   "cell_type": "markdown",
   "id": "58495b21-4ad0-4c5b-86c5-88c023542ea1",
   "metadata": {},
   "source": [
    "### Underscores in Number\n",
    "We can use underscores to make number more redable. Python ignores underscore in numbers. Only available after Python 3.6"
   ]
  },
  {
   "cell_type": "code",
   "execution_count": 5,
   "id": "3dfa525e-2d0a-473f-b218-25d40835f832",
   "metadata": {},
   "outputs": [
    {
     "name": "stdout",
     "output_type": "stream",
     "text": [
      "12038\n"
     ]
    }
   ],
   "source": [
    "distance_delhi_to_washington = 12_038\n",
    "print(distance_delhi_to_washington)"
   ]
  },
  {
   "cell_type": "markdown",
   "id": "00f2ad10-a240-452f-9e1e-d0ac2a2c3557",
   "metadata": {},
   "source": [
    "#### Multiple Assignment\n",
    "We can assign multiple variable in one line"
   ]
  },
  {
   "cell_type": "code",
   "execution_count": 7,
   "id": "f3c81ccb-cb8a-4e91-acc7-1a6a17a38544",
   "metadata": {},
   "outputs": [
    {
     "name": "stdout",
     "output_type": "stream",
     "text": [
      "x: 23\n",
      "y: 43\n",
      "z: 33\n"
     ]
    }
   ],
   "source": [
    "x, y, z = 23, 43, 33\n",
    "print(f\"x: {x}\\ny: {y}\\nz: {z}\")"
   ]
  },
  {
   "cell_type": "markdown",
   "id": "fed4403b-9209-4b62-9479-5e8d570d535b",
   "metadata": {},
   "source": [
    "#### Constant\n",
    "A constant is like variable whos value remains throughout the life of a program. Python doesn't have a built-in for constants but any capital variable is considered a constant."
   ]
  },
  {
   "cell_type": "code",
   "execution_count": 8,
   "id": "17d58e64-2eaf-4d72-bcc1-31901e8481b1",
   "metadata": {},
   "outputs": [
    {
     "name": "stdout",
     "output_type": "stream",
     "text": [
      "500\n"
     ]
    }
   ],
   "source": [
    "MAX_CONNECTION = 500\n",
    "print(MAX_CONNECTION)"
   ]
  },
  {
   "cell_type": "markdown",
   "id": "b44f5e6e-ce3c-49d4-9e17-7e2b138cfab9",
   "metadata": {},
   "source": [
    "#### Exercise 2-8: Number Eight\n",
    "Write addition, subtraction, multiplication, and division operations that each result in the number 8. Be sure to enclose your operations in print() calls to see the results."
   ]
  },
  {
   "cell_type": "code",
   "execution_count": 10,
   "id": "d940a36d-b7a5-482c-a03e-4b6253ca1a3f",
   "metadata": {},
   "outputs": [
    {
     "name": "stdout",
     "output_type": "stream",
     "text": [
      "8\n",
      "8\n",
      "8\n",
      "8.0\n"
     ]
    }
   ],
   "source": [
    "print(5 + 3)\n",
    "print(10 - 2)\n",
    "print(4 * 2)\n",
    "print(40 / 5)"
   ]
  },
  {
   "cell_type": "markdown",
   "id": "e4518106-aa3d-4298-af84-000a9c0e9c4c",
   "metadata": {},
   "source": [
    "#### Exercise 2-9: Number\n",
    "Use a variable to represent your number. Then using that variable, create a message that reveals your  number. Print that message."
   ]
  },
  {
   "cell_type": "code",
   "execution_count": 11,
   "id": "c74532b6-fe16-4cbd-bd6e-54422a28ab40",
   "metadata": {},
   "outputs": [
    {
     "name": "stdout",
     "output_type": "stream",
     "text": [
      "There are 7 wonders of world\n"
     ]
    }
   ],
   "source": [
    "wonders_of_world = 7\n",
    "print(f\"There are {wonders_of_world} wonders of world\")"
   ]
  },
  {
   "cell_type": "markdown",
   "id": "510fb2a4-5e8a-4bd4-9929-7cb898cb5482",
   "metadata": {},
   "source": [
    "#### Comments\n",
    "Use # to represent comments in python"
   ]
  },
  {
   "cell_type": "code",
   "execution_count": 12,
   "id": "4cdcc896-0fe9-4057-94cf-e55e644704b1",
   "metadata": {},
   "outputs": [],
   "source": [
    "# This is comment. Ignored by interpreter"
   ]
  },
  {
   "cell_type": "code",
   "execution_count": 13,
   "id": "ccea3a50-523c-4ace-a672-61450e41ace1",
   "metadata": {},
   "outputs": [
    {
     "name": "stdout",
     "output_type": "stream",
     "text": [
      "The Zen of Python, by Tim Peters\n",
      "\n",
      "Beautiful is better than ugly.\n",
      "Explicit is better than implicit.\n",
      "Simple is better than complex.\n",
      "Complex is better than complicated.\n",
      "Flat is better than nested.\n",
      "Sparse is better than dense.\n",
      "Readability counts.\n",
      "Special cases aren't special enough to break the rules.\n",
      "Although practicality beats purity.\n",
      "Errors should never pass silently.\n",
      "Unless explicitly silenced.\n",
      "In the face of ambiguity, refuse the temptation to guess.\n",
      "There should be one-- and preferably only one --obvious way to do it.\n",
      "Although that way may not be obvious at first unless you're Dutch.\n",
      "Now is better than never.\n",
      "Although never is often better than *right* now.\n",
      "If the implementation is hard to explain, it's a bad idea.\n",
      "If the implementation is easy to explain, it may be a good idea.\n",
      "Namespaces are one honking great idea -- let's do more of those!\n"
     ]
    }
   ],
   "source": [
    "import this"
   ]
  }
 ],
 "metadata": {
  "kernelspec": {
   "display_name": "Python 3 (ipykernel)",
   "language": "python",
   "name": "python3"
  },
  "language_info": {
   "codemirror_mode": {
    "name": "ipython",
    "version": 3
   },
   "file_extension": ".py",
   "mimetype": "text/x-python",
   "name": "python",
   "nbconvert_exporter": "python",
   "pygments_lexer": "ipython3",
   "version": "3.10.12"
  }
 },
 "nbformat": 4,
 "nbformat_minor": 5
}
